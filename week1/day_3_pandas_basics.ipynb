{
 "cells": [
  {
   "cell_type": "markdown",
   "id": "e7b7a4db-31c3-4918-967b-6c88575ad4db",
   "metadata": {},
   "source": [
    "# Day 3 – Pandas Basics"
   ]
  },
  {
   "cell_type": "code",
   "execution_count": 1,
   "id": "3cbd3e5c",
   "metadata": {},
   "outputs": [],
   "source": [
    "import pandas as pd"
   ]
  },
  {
   "cell_type": "markdown",
   "id": "a12f6d0f-bfba-41a2-bf8b-c45596464e94",
   "metadata": {},
   "source": [
    "## Task 1 – Load and inspect data\n",
    "\n",
    "### 1.1 Load the IMDb Top 250 Movies dataset into a Pandas DataFrame."
   ]
  },
  {
   "cell_type": "code",
   "execution_count": 2,
   "id": "19669260",
   "metadata": {},
   "outputs": [],
   "source": [
    "movies = pd.read_csv('../data/IMDB_processed_data.csv')"
   ]
  },
  {
   "cell_type": "markdown",
   "id": "b166d822-d480-4345-91b9-4a38c618422f",
   "metadata": {},
   "source": [
    "### 1.2 Display the first 10 rows.\n",
    "\n"
   ]
  },
  {
   "cell_type": "code",
   "execution_count": 3,
   "id": "e6c82f36",
   "metadata": {},
   "outputs": [
    {
     "data": {
      "text/html": [
       "<div>\n",
       "<style scoped>\n",
       "    .dataframe tbody tr th:only-of-type {\n",
       "        vertical-align: middle;\n",
       "    }\n",
       "\n",
       "    .dataframe tbody tr th {\n",
       "        vertical-align: top;\n",
       "    }\n",
       "\n",
       "    .dataframe thead th {\n",
       "        text-align: right;\n",
       "    }\n",
       "</style>\n",
       "<table border=\"1\" class=\"dataframe\">\n",
       "  <thead>\n",
       "    <tr style=\"text-align: right;\">\n",
       "      <th></th>\n",
       "      <th>Rank</th>\n",
       "      <th>Title</th>\n",
       "      <th>Release</th>\n",
       "      <th>Runtime</th>\n",
       "      <th>Rated</th>\n",
       "      <th>Ratings</th>\n",
       "    </tr>\n",
       "  </thead>\n",
       "  <tbody>\n",
       "    <tr>\n",
       "      <th>0</th>\n",
       "      <td>1</td>\n",
       "      <td>The Shawshank Redemption</td>\n",
       "      <td>1994</td>\n",
       "      <td>2h 22m</td>\n",
       "      <td>R</td>\n",
       "      <td>9.3</td>\n",
       "    </tr>\n",
       "    <tr>\n",
       "      <th>1</th>\n",
       "      <td>2</td>\n",
       "      <td>The Godfather</td>\n",
       "      <td>1972</td>\n",
       "      <td>2h 55m</td>\n",
       "      <td>R</td>\n",
       "      <td>9.2</td>\n",
       "    </tr>\n",
       "    <tr>\n",
       "      <th>2</th>\n",
       "      <td>3</td>\n",
       "      <td>The Dark Knight</td>\n",
       "      <td>2008</td>\n",
       "      <td>2h 32m</td>\n",
       "      <td>PG-13</td>\n",
       "      <td>9.0</td>\n",
       "    </tr>\n",
       "    <tr>\n",
       "      <th>3</th>\n",
       "      <td>4</td>\n",
       "      <td>The Godfather Part II</td>\n",
       "      <td>1974</td>\n",
       "      <td>3h 22m</td>\n",
       "      <td>R</td>\n",
       "      <td>9.0</td>\n",
       "    </tr>\n",
       "    <tr>\n",
       "      <th>4</th>\n",
       "      <td>5</td>\n",
       "      <td>12 Angry Men</td>\n",
       "      <td>1957</td>\n",
       "      <td>1h 36m</td>\n",
       "      <td>Approved</td>\n",
       "      <td>9.0</td>\n",
       "    </tr>\n",
       "    <tr>\n",
       "      <th>5</th>\n",
       "      <td>6</td>\n",
       "      <td>The Lord of the Rings: The Return of the King</td>\n",
       "      <td>2003</td>\n",
       "      <td>3h 21m</td>\n",
       "      <td>PG-13</td>\n",
       "      <td>9.0</td>\n",
       "    </tr>\n",
       "    <tr>\n",
       "      <th>6</th>\n",
       "      <td>7</td>\n",
       "      <td>Schindler's List</td>\n",
       "      <td>1993</td>\n",
       "      <td>3h 15m</td>\n",
       "      <td>R</td>\n",
       "      <td>9.0</td>\n",
       "    </tr>\n",
       "    <tr>\n",
       "      <th>7</th>\n",
       "      <td>8</td>\n",
       "      <td>Pulp Fiction</td>\n",
       "      <td>1994</td>\n",
       "      <td>2h 34m</td>\n",
       "      <td>R</td>\n",
       "      <td>8.9</td>\n",
       "    </tr>\n",
       "    <tr>\n",
       "      <th>8</th>\n",
       "      <td>9</td>\n",
       "      <td>The Lord of the Rings: The Fellowship of the Ring</td>\n",
       "      <td>2001</td>\n",
       "      <td>2h 58m</td>\n",
       "      <td>PG-13</td>\n",
       "      <td>8.9</td>\n",
       "    </tr>\n",
       "    <tr>\n",
       "      <th>9</th>\n",
       "      <td>10</td>\n",
       "      <td>The Good, the Bad and the Ugly</td>\n",
       "      <td>1966</td>\n",
       "      <td>2h 58m</td>\n",
       "      <td>R</td>\n",
       "      <td>8.8</td>\n",
       "    </tr>\n",
       "  </tbody>\n",
       "</table>\n",
       "</div>"
      ],
      "text/plain": [
       "   Rank                                              Title  Release Runtime  \\\n",
       "0     1                           The Shawshank Redemption     1994  2h 22m   \n",
       "1     2                                      The Godfather     1972  2h 55m   \n",
       "2     3                                    The Dark Knight     2008  2h 32m   \n",
       "3     4                              The Godfather Part II     1974  3h 22m   \n",
       "4     5                                       12 Angry Men     1957  1h 36m   \n",
       "5     6      The Lord of the Rings: The Return of the King     2003  3h 21m   \n",
       "6     7                                   Schindler's List     1993  3h 15m   \n",
       "7     8                                       Pulp Fiction     1994  2h 34m   \n",
       "8     9  The Lord of the Rings: The Fellowship of the Ring     2001  2h 58m   \n",
       "9    10                     The Good, the Bad and the Ugly     1966  2h 58m   \n",
       "\n",
       "      Rated  Ratings  \n",
       "0         R      9.3  \n",
       "1         R      9.2  \n",
       "2     PG-13      9.0  \n",
       "3         R      9.0  \n",
       "4  Approved      9.0  \n",
       "5     PG-13      9.0  \n",
       "6         R      9.0  \n",
       "7         R      8.9  \n",
       "8     PG-13      8.9  \n",
       "9         R      8.8  "
      ]
     },
     "execution_count": 3,
     "metadata": {},
     "output_type": "execute_result"
    }
   ],
   "source": [
    "movies.head(10)"
   ]
  },
  {
   "cell_type": "markdown",
   "id": "cfb4c096-a231-4746-9792-fca01e5f1e7b",
   "metadata": {},
   "source": [
    "### 1.3 Show the number of rows and columns (.shape).\n",
    "\n"
   ]
  },
  {
   "cell_type": "code",
   "execution_count": 4,
   "id": "dcbf7ada",
   "metadata": {},
   "outputs": [
    {
     "name": "stdout",
     "output_type": "stream",
     "text": [
      "Number of rows: 250, Number of columns: 6\n"
     ]
    }
   ],
   "source": [
    "print(f\"Number of rows: {movies.shape[0]}, Number of columns: {movies.shape[1]}\")"
   ]
  },
  {
   "cell_type": "markdown",
   "id": "2589a701-cce2-4148-b74a-6a083618a80c",
   "metadata": {},
   "source": [
    "### 1.4 Print the column names and their data types (.dtypes).\n",
    "\n"
   ]
  },
  {
   "cell_type": "code",
   "execution_count": 5,
   "id": "e04e4db7",
   "metadata": {},
   "outputs": [
    {
     "data": {
      "text/plain": [
       "Rank         int64\n",
       "Title       object\n",
       "Release      int64\n",
       "Runtime     object\n",
       "Rated       object\n",
       "Ratings    float64\n",
       "dtype: object"
      ]
     },
     "execution_count": 5,
     "metadata": {},
     "output_type": "execute_result"
    }
   ],
   "source": [
    "movies.dtypes"
   ]
  },
  {
   "cell_type": "markdown",
   "id": "cb7ba011-0b1f-4a87-a126-c6ae3f858173",
   "metadata": {},
   "source": [
    "### 1.5 Show basic descriptive statistics with .describe()."
   ]
  },
  {
   "cell_type": "code",
   "execution_count": 6,
   "id": "71a070fd",
   "metadata": {},
   "outputs": [
    {
     "data": {
      "text/html": [
       "<div>\n",
       "<style scoped>\n",
       "    .dataframe tbody tr th:only-of-type {\n",
       "        vertical-align: middle;\n",
       "    }\n",
       "\n",
       "    .dataframe tbody tr th {\n",
       "        vertical-align: top;\n",
       "    }\n",
       "\n",
       "    .dataframe thead th {\n",
       "        text-align: right;\n",
       "    }\n",
       "</style>\n",
       "<table border=\"1\" class=\"dataframe\">\n",
       "  <thead>\n",
       "    <tr style=\"text-align: right;\">\n",
       "      <th></th>\n",
       "      <th>Rank</th>\n",
       "      <th>Release</th>\n",
       "      <th>Ratings</th>\n",
       "    </tr>\n",
       "  </thead>\n",
       "  <tbody>\n",
       "    <tr>\n",
       "      <th>count</th>\n",
       "      <td>250.000000</td>\n",
       "      <td>250.00000</td>\n",
       "      <td>250.000000</td>\n",
       "    </tr>\n",
       "    <tr>\n",
       "      <th>mean</th>\n",
       "      <td>125.500000</td>\n",
       "      <td>1988.17200</td>\n",
       "      <td>8.310000</td>\n",
       "    </tr>\n",
       "    <tr>\n",
       "      <th>std</th>\n",
       "      <td>72.312977</td>\n",
       "      <td>25.59631</td>\n",
       "      <td>0.232716</td>\n",
       "    </tr>\n",
       "    <tr>\n",
       "      <th>min</th>\n",
       "      <td>1.000000</td>\n",
       "      <td>1921.00000</td>\n",
       "      <td>8.000000</td>\n",
       "    </tr>\n",
       "    <tr>\n",
       "      <th>25%</th>\n",
       "      <td>63.250000</td>\n",
       "      <td>1971.25000</td>\n",
       "      <td>8.100000</td>\n",
       "    </tr>\n",
       "    <tr>\n",
       "      <th>50%</th>\n",
       "      <td>125.500000</td>\n",
       "      <td>1995.00000</td>\n",
       "      <td>8.200000</td>\n",
       "    </tr>\n",
       "    <tr>\n",
       "      <th>75%</th>\n",
       "      <td>187.750000</td>\n",
       "      <td>2008.75000</td>\n",
       "      <td>8.400000</td>\n",
       "    </tr>\n",
       "    <tr>\n",
       "      <th>max</th>\n",
       "      <td>250.000000</td>\n",
       "      <td>2024.00000</td>\n",
       "      <td>9.300000</td>\n",
       "    </tr>\n",
       "  </tbody>\n",
       "</table>\n",
       "</div>"
      ],
      "text/plain": [
       "             Rank     Release     Ratings\n",
       "count  250.000000   250.00000  250.000000\n",
       "mean   125.500000  1988.17200    8.310000\n",
       "std     72.312977    25.59631    0.232716\n",
       "min      1.000000  1921.00000    8.000000\n",
       "25%     63.250000  1971.25000    8.100000\n",
       "50%    125.500000  1995.00000    8.200000\n",
       "75%    187.750000  2008.75000    8.400000\n",
       "max    250.000000  2024.00000    9.300000"
      ]
     },
     "execution_count": 6,
     "metadata": {},
     "output_type": "execute_result"
    }
   ],
   "source": [
    "movies.describe()"
   ]
  },
  {
   "cell_type": "code",
   "execution_count": 7,
   "id": "cf571cd6",
   "metadata": {},
   "outputs": [
    {
     "data": {
      "text/html": [
       "<div>\n",
       "<style scoped>\n",
       "    .dataframe tbody tr th:only-of-type {\n",
       "        vertical-align: middle;\n",
       "    }\n",
       "\n",
       "    .dataframe tbody tr th {\n",
       "        vertical-align: top;\n",
       "    }\n",
       "\n",
       "    .dataframe thead th {\n",
       "        text-align: right;\n",
       "    }\n",
       "</style>\n",
       "<table border=\"1\" class=\"dataframe\">\n",
       "  <thead>\n",
       "    <tr style=\"text-align: right;\">\n",
       "      <th></th>\n",
       "      <th>Title</th>\n",
       "      <th>Runtime</th>\n",
       "      <th>Rated</th>\n",
       "    </tr>\n",
       "  </thead>\n",
       "  <tbody>\n",
       "    <tr>\n",
       "      <th>count</th>\n",
       "      <td>250</td>\n",
       "      <td>250</td>\n",
       "      <td>250</td>\n",
       "    </tr>\n",
       "    <tr>\n",
       "      <th>unique</th>\n",
       "      <td>250</td>\n",
       "      <td>100</td>\n",
       "      <td>8</td>\n",
       "    </tr>\n",
       "    <tr>\n",
       "      <th>top</th>\n",
       "      <td>The Shawshank Redemption</td>\n",
       "      <td>2h 10m</td>\n",
       "      <td>R</td>\n",
       "    </tr>\n",
       "    <tr>\n",
       "      <th>freq</th>\n",
       "      <td>1</td>\n",
       "      <td>10</td>\n",
       "      <td>101</td>\n",
       "    </tr>\n",
       "  </tbody>\n",
       "</table>\n",
       "</div>"
      ],
      "text/plain": [
       "                           Title Runtime Rated\n",
       "count                        250     250   250\n",
       "unique                       250     100     8\n",
       "top     The Shawshank Redemption  2h 10m     R\n",
       "freq                           1      10   101"
      ]
     },
     "execution_count": 7,
     "metadata": {},
     "output_type": "execute_result"
    }
   ],
   "source": [
    "movies.describe(include=\"object\")"
   ]
  },
  {
   "cell_type": "markdown",
   "id": "8987c936",
   "metadata": {},
   "source": [
    "## Task 2 – Selecting columns\n",
    "\n",
    "### 2.1 Select the Title column as a Series."
   ]
  },
  {
   "cell_type": "code",
   "execution_count": 8,
   "id": "41326d7c",
   "metadata": {},
   "outputs": [
    {
     "data": {
      "text/plain": [
       "0       The Shawshank Redemption\n",
       "1                  The Godfather\n",
       "2                The Dark Knight\n",
       "3          The Godfather Part II\n",
       "4                   12 Angry Men\n",
       "                 ...            \n",
       "245                Amores Perros\n",
       "246                     The Help\n",
       "247                      Rebecca\n",
       "248    A Silent Voice: The Movie\n",
       "249                    Andhadhun\n",
       "Name: Title, Length: 250, dtype: object"
      ]
     },
     "execution_count": 8,
     "metadata": {},
     "output_type": "execute_result"
    }
   ],
   "source": [
    "movies['Title']"
   ]
  },
  {
   "cell_type": "markdown",
   "id": "cd8ae33e",
   "metadata": {},
   "source": [
    "### 2.2 Select the Title and Ratings columns as a DataFrame.\n"
   ]
  },
  {
   "cell_type": "code",
   "execution_count": 9,
   "id": "fc11d602",
   "metadata": {},
   "outputs": [
    {
     "data": {
      "text/html": [
       "<div>\n",
       "<style scoped>\n",
       "    .dataframe tbody tr th:only-of-type {\n",
       "        vertical-align: middle;\n",
       "    }\n",
       "\n",
       "    .dataframe tbody tr th {\n",
       "        vertical-align: top;\n",
       "    }\n",
       "\n",
       "    .dataframe thead th {\n",
       "        text-align: right;\n",
       "    }\n",
       "</style>\n",
       "<table border=\"1\" class=\"dataframe\">\n",
       "  <thead>\n",
       "    <tr style=\"text-align: right;\">\n",
       "      <th></th>\n",
       "      <th>Title</th>\n",
       "      <th>Ratings</th>\n",
       "    </tr>\n",
       "  </thead>\n",
       "  <tbody>\n",
       "    <tr>\n",
       "      <th>0</th>\n",
       "      <td>The Shawshank Redemption</td>\n",
       "      <td>9.3</td>\n",
       "    </tr>\n",
       "    <tr>\n",
       "      <th>1</th>\n",
       "      <td>The Godfather</td>\n",
       "      <td>9.2</td>\n",
       "    </tr>\n",
       "    <tr>\n",
       "      <th>2</th>\n",
       "      <td>The Dark Knight</td>\n",
       "      <td>9.0</td>\n",
       "    </tr>\n",
       "    <tr>\n",
       "      <th>3</th>\n",
       "      <td>The Godfather Part II</td>\n",
       "      <td>9.0</td>\n",
       "    </tr>\n",
       "    <tr>\n",
       "      <th>4</th>\n",
       "      <td>12 Angry Men</td>\n",
       "      <td>9.0</td>\n",
       "    </tr>\n",
       "    <tr>\n",
       "      <th>...</th>\n",
       "      <td>...</td>\n",
       "      <td>...</td>\n",
       "    </tr>\n",
       "    <tr>\n",
       "      <th>245</th>\n",
       "      <td>Amores Perros</td>\n",
       "      <td>8.0</td>\n",
       "    </tr>\n",
       "    <tr>\n",
       "      <th>246</th>\n",
       "      <td>The Help</td>\n",
       "      <td>8.1</td>\n",
       "    </tr>\n",
       "    <tr>\n",
       "      <th>247</th>\n",
       "      <td>Rebecca</td>\n",
       "      <td>8.1</td>\n",
       "    </tr>\n",
       "    <tr>\n",
       "      <th>248</th>\n",
       "      <td>A Silent Voice: The Movie</td>\n",
       "      <td>8.1</td>\n",
       "    </tr>\n",
       "    <tr>\n",
       "      <th>249</th>\n",
       "      <td>Andhadhun</td>\n",
       "      <td>8.2</td>\n",
       "    </tr>\n",
       "  </tbody>\n",
       "</table>\n",
       "<p>250 rows × 2 columns</p>\n",
       "</div>"
      ],
      "text/plain": [
       "                         Title  Ratings\n",
       "0     The Shawshank Redemption      9.3\n",
       "1                The Godfather      9.2\n",
       "2              The Dark Knight      9.0\n",
       "3        The Godfather Part II      9.0\n",
       "4                 12 Angry Men      9.0\n",
       "..                         ...      ...\n",
       "245              Amores Perros      8.0\n",
       "246                   The Help      8.1\n",
       "247                    Rebecca      8.1\n",
       "248  A Silent Voice: The Movie      8.1\n",
       "249                  Andhadhun      8.2\n",
       "\n",
       "[250 rows x 2 columns]"
      ]
     },
     "execution_count": 9,
     "metadata": {},
     "output_type": "execute_result"
    }
   ],
   "source": [
    "movies[['Title', 'Ratings']]"
   ]
  },
  {
   "cell_type": "markdown",
   "id": "8fc38f00",
   "metadata": {},
   "source": [
    "\n",
    "### 2.3 Show the first 15 movie titles only."
   ]
  },
  {
   "cell_type": "code",
   "execution_count": 10,
   "id": "6e4873b9",
   "metadata": {},
   "outputs": [
    {
     "data": {
      "text/plain": [
       "0                              The Shawshank Redemption\n",
       "1                                         The Godfather\n",
       "2                                       The Dark Knight\n",
       "3                                 The Godfather Part II\n",
       "4                                          12 Angry Men\n",
       "5         The Lord of the Rings: The Return of the King\n",
       "6                                      Schindler's List\n",
       "7                                          Pulp Fiction\n",
       "8     The Lord of the Rings: The Fellowship of the Ring\n",
       "9                        The Good, the Bad and the Ugly\n",
       "10                                         Forrest Gump\n",
       "11                The Lord of the Rings: The Two Towers\n",
       "12                                           Fight Club\n",
       "13                                            Inception\n",
       "14       Star Wars: Episode V - The Empire Strikes Back\n",
       "Name: Title, dtype: object"
      ]
     },
     "execution_count": 10,
     "metadata": {},
     "output_type": "execute_result"
    }
   ],
   "source": [
    "movies['Title'].head(15)"
   ]
  },
  {
   "cell_type": "markdown",
   "id": "e1e505be",
   "metadata": {},
   "source": [
    "## Task 3 – Filtering rows\n",
    "\n",
    "### 3.1 Select all movies with a rating greater than 9.0."
   ]
  },
  {
   "cell_type": "code",
   "execution_count": 11,
   "id": "43a83d9d",
   "metadata": {},
   "outputs": [
    {
     "data": {
      "text/html": [
       "<div>\n",
       "<style scoped>\n",
       "    .dataframe tbody tr th:only-of-type {\n",
       "        vertical-align: middle;\n",
       "    }\n",
       "\n",
       "    .dataframe tbody tr th {\n",
       "        vertical-align: top;\n",
       "    }\n",
       "\n",
       "    .dataframe thead th {\n",
       "        text-align: right;\n",
       "    }\n",
       "</style>\n",
       "<table border=\"1\" class=\"dataframe\">\n",
       "  <thead>\n",
       "    <tr style=\"text-align: right;\">\n",
       "      <th></th>\n",
       "      <th>Rank</th>\n",
       "      <th>Title</th>\n",
       "      <th>Release</th>\n",
       "      <th>Runtime</th>\n",
       "      <th>Rated</th>\n",
       "      <th>Ratings</th>\n",
       "    </tr>\n",
       "  </thead>\n",
       "  <tbody>\n",
       "    <tr>\n",
       "      <th>0</th>\n",
       "      <td>1</td>\n",
       "      <td>The Shawshank Redemption</td>\n",
       "      <td>1994</td>\n",
       "      <td>2h 22m</td>\n",
       "      <td>R</td>\n",
       "      <td>9.3</td>\n",
       "    </tr>\n",
       "    <tr>\n",
       "      <th>1</th>\n",
       "      <td>2</td>\n",
       "      <td>The Godfather</td>\n",
       "      <td>1972</td>\n",
       "      <td>2h 55m</td>\n",
       "      <td>R</td>\n",
       "      <td>9.2</td>\n",
       "    </tr>\n",
       "  </tbody>\n",
       "</table>\n",
       "</div>"
      ],
      "text/plain": [
       "   Rank                     Title  Release Runtime Rated  Ratings\n",
       "0     1  The Shawshank Redemption     1994  2h 22m     R      9.3\n",
       "1     2             The Godfather     1972  2h 55m     R      9.2"
      ]
     },
     "execution_count": 11,
     "metadata": {},
     "output_type": "execute_result"
    }
   ],
   "source": [
    "movies[movies['Ratings'] > 9.0]"
   ]
  },
  {
   "cell_type": "markdown",
   "id": "091c2f96",
   "metadata": {},
   "source": [
    "### 3.2 Select all movies released before the year 2000."
   ]
  },
  {
   "cell_type": "code",
   "execution_count": 12,
   "id": "e8f2f19a",
   "metadata": {},
   "outputs": [
    {
     "data": {
      "text/html": [
       "<div>\n",
       "<style scoped>\n",
       "    .dataframe tbody tr th:only-of-type {\n",
       "        vertical-align: middle;\n",
       "    }\n",
       "\n",
       "    .dataframe tbody tr th {\n",
       "        vertical-align: top;\n",
       "    }\n",
       "\n",
       "    .dataframe thead th {\n",
       "        text-align: right;\n",
       "    }\n",
       "</style>\n",
       "<table border=\"1\" class=\"dataframe\">\n",
       "  <thead>\n",
       "    <tr style=\"text-align: right;\">\n",
       "      <th></th>\n",
       "      <th>Rank</th>\n",
       "      <th>Title</th>\n",
       "      <th>Release</th>\n",
       "      <th>Runtime</th>\n",
       "      <th>Rated</th>\n",
       "      <th>Ratings</th>\n",
       "    </tr>\n",
       "  </thead>\n",
       "  <tbody>\n",
       "    <tr>\n",
       "      <th>0</th>\n",
       "      <td>1</td>\n",
       "      <td>The Shawshank Redemption</td>\n",
       "      <td>1994</td>\n",
       "      <td>2h 22m</td>\n",
       "      <td>R</td>\n",
       "      <td>9.3</td>\n",
       "    </tr>\n",
       "    <tr>\n",
       "      <th>1</th>\n",
       "      <td>2</td>\n",
       "      <td>The Godfather</td>\n",
       "      <td>1972</td>\n",
       "      <td>2h 55m</td>\n",
       "      <td>R</td>\n",
       "      <td>9.2</td>\n",
       "    </tr>\n",
       "    <tr>\n",
       "      <th>3</th>\n",
       "      <td>4</td>\n",
       "      <td>The Godfather Part II</td>\n",
       "      <td>1974</td>\n",
       "      <td>3h 22m</td>\n",
       "      <td>R</td>\n",
       "      <td>9.0</td>\n",
       "    </tr>\n",
       "    <tr>\n",
       "      <th>4</th>\n",
       "      <td>5</td>\n",
       "      <td>12 Angry Men</td>\n",
       "      <td>1957</td>\n",
       "      <td>1h 36m</td>\n",
       "      <td>Approved</td>\n",
       "      <td>9.0</td>\n",
       "    </tr>\n",
       "    <tr>\n",
       "      <th>6</th>\n",
       "      <td>7</td>\n",
       "      <td>Schindler's List</td>\n",
       "      <td>1993</td>\n",
       "      <td>3h 15m</td>\n",
       "      <td>R</td>\n",
       "      <td>9.0</td>\n",
       "    </tr>\n",
       "    <tr>\n",
       "      <th>...</th>\n",
       "      <td>...</td>\n",
       "      <td>...</td>\n",
       "      <td>...</td>\n",
       "      <td>...</td>\n",
       "      <td>...</td>\n",
       "      <td>...</td>\n",
       "    </tr>\n",
       "    <tr>\n",
       "      <th>240</th>\n",
       "      <td>241</td>\n",
       "      <td>The Battle of Algiers</td>\n",
       "      <td>1966</td>\n",
       "      <td>2h 1m</td>\n",
       "      <td>Not Rated</td>\n",
       "      <td>8.1</td>\n",
       "    </tr>\n",
       "    <tr>\n",
       "      <th>242</th>\n",
       "      <td>243</td>\n",
       "      <td>The Grapes of Wrath</td>\n",
       "      <td>1940</td>\n",
       "      <td>2h 9m</td>\n",
       "      <td>Approved</td>\n",
       "      <td>8.1</td>\n",
       "    </tr>\n",
       "    <tr>\n",
       "      <th>243</th>\n",
       "      <td>244</td>\n",
       "      <td>Groundhog Day</td>\n",
       "      <td>1993</td>\n",
       "      <td>1h 41m</td>\n",
       "      <td>PG</td>\n",
       "      <td>8.0</td>\n",
       "    </tr>\n",
       "    <tr>\n",
       "      <th>244</th>\n",
       "      <td>245</td>\n",
       "      <td>A Man Escaped</td>\n",
       "      <td>1956</td>\n",
       "      <td>1h 41m</td>\n",
       "      <td>Not Rated</td>\n",
       "      <td>8.2</td>\n",
       "    </tr>\n",
       "    <tr>\n",
       "      <th>247</th>\n",
       "      <td>248</td>\n",
       "      <td>Rebecca</td>\n",
       "      <td>1940</td>\n",
       "      <td>2h 10m</td>\n",
       "      <td>Approved</td>\n",
       "      <td>8.1</td>\n",
       "    </tr>\n",
       "  </tbody>\n",
       "</table>\n",
       "<p>145 rows × 6 columns</p>\n",
       "</div>"
      ],
      "text/plain": [
       "     Rank                     Title  Release Runtime      Rated  Ratings\n",
       "0       1  The Shawshank Redemption     1994  2h 22m          R      9.3\n",
       "1       2             The Godfather     1972  2h 55m          R      9.2\n",
       "3       4     The Godfather Part II     1974  3h 22m          R      9.0\n",
       "4       5              12 Angry Men     1957  1h 36m   Approved      9.0\n",
       "6       7          Schindler's List     1993  3h 15m          R      9.0\n",
       "..    ...                       ...      ...     ...        ...      ...\n",
       "240   241     The Battle of Algiers     1966   2h 1m  Not Rated      8.1\n",
       "242   243       The Grapes of Wrath     1940   2h 9m   Approved      8.1\n",
       "243   244             Groundhog Day     1993  1h 41m         PG      8.0\n",
       "244   245             A Man Escaped     1956  1h 41m  Not Rated      8.2\n",
       "247   248                   Rebecca     1940  2h 10m   Approved      8.1\n",
       "\n",
       "[145 rows x 6 columns]"
      ]
     },
     "execution_count": 12,
     "metadata": {},
     "output_type": "execute_result"
    }
   ],
   "source": [
    "movies[movies['Release'] < 2000]"
   ]
  },
  {
   "cell_type": "markdown",
   "id": "f3703eb0",
   "metadata": {},
   "source": [
    "### 3.3 Select movies longer than 180 minutes."
   ]
  },
  {
   "cell_type": "code",
   "execution_count": 13,
   "id": "ec6e6a58",
   "metadata": {},
   "outputs": [
    {
     "data": {
      "text/html": [
       "<div>\n",
       "<style scoped>\n",
       "    .dataframe tbody tr th:only-of-type {\n",
       "        vertical-align: middle;\n",
       "    }\n",
       "\n",
       "    .dataframe tbody tr th {\n",
       "        vertical-align: top;\n",
       "    }\n",
       "\n",
       "    .dataframe thead th {\n",
       "        text-align: right;\n",
       "    }\n",
       "</style>\n",
       "<table border=\"1\" class=\"dataframe\">\n",
       "  <thead>\n",
       "    <tr style=\"text-align: right;\">\n",
       "      <th></th>\n",
       "      <th>Rank</th>\n",
       "      <th>Title</th>\n",
       "      <th>Release</th>\n",
       "      <th>Runtime</th>\n",
       "      <th>Rated</th>\n",
       "      <th>Ratings</th>\n",
       "      <th>Runtime_Minutes</th>\n",
       "    </tr>\n",
       "  </thead>\n",
       "  <tbody>\n",
       "    <tr>\n",
       "      <th>3</th>\n",
       "      <td>4</td>\n",
       "      <td>The Godfather Part II</td>\n",
       "      <td>1974</td>\n",
       "      <td>3h 22m</td>\n",
       "      <td>R</td>\n",
       "      <td>9.0</td>\n",
       "      <td>202</td>\n",
       "    </tr>\n",
       "    <tr>\n",
       "      <th>5</th>\n",
       "      <td>6</td>\n",
       "      <td>The Lord of the Rings: The Return of the King</td>\n",
       "      <td>2003</td>\n",
       "      <td>3h 21m</td>\n",
       "      <td>PG-13</td>\n",
       "      <td>9.0</td>\n",
       "      <td>201</td>\n",
       "    </tr>\n",
       "    <tr>\n",
       "      <th>6</th>\n",
       "      <td>7</td>\n",
       "      <td>Schindler's List</td>\n",
       "      <td>1993</td>\n",
       "      <td>3h 15m</td>\n",
       "      <td>R</td>\n",
       "      <td>9.0</td>\n",
       "      <td>195</td>\n",
       "    </tr>\n",
       "    <tr>\n",
       "      <th>21</th>\n",
       "      <td>22</td>\n",
       "      <td>Seven Samurai</td>\n",
       "      <td>1954</td>\n",
       "      <td>3h 27m</td>\n",
       "      <td>Not Rated</td>\n",
       "      <td>8.6</td>\n",
       "      <td>207</td>\n",
       "    </tr>\n",
       "    <tr>\n",
       "      <th>25</th>\n",
       "      <td>26</td>\n",
       "      <td>The Green Mile</td>\n",
       "      <td>1999</td>\n",
       "      <td>3h 9m</td>\n",
       "      <td>R</td>\n",
       "      <td>8.6</td>\n",
       "      <td>189</td>\n",
       "    </tr>\n",
       "    <tr>\n",
       "      <th>74</th>\n",
       "      <td>75</td>\n",
       "      <td>Avengers: Endgame</td>\n",
       "      <td>2019</td>\n",
       "      <td>3h 1m</td>\n",
       "      <td>PG-13</td>\n",
       "      <td>8.4</td>\n",
       "      <td>181</td>\n",
       "    </tr>\n",
       "    <tr>\n",
       "      <th>86</th>\n",
       "      <td>87</td>\n",
       "      <td>Once Upon a Time in America</td>\n",
       "      <td>1984</td>\n",
       "      <td>3h 49m</td>\n",
       "      <td>R</td>\n",
       "      <td>8.3</td>\n",
       "      <td>229</td>\n",
       "    </tr>\n",
       "    <tr>\n",
       "      <th>99</th>\n",
       "      <td>100</td>\n",
       "      <td>Lawrence of Arabia</td>\n",
       "      <td>1962</td>\n",
       "      <td>3h 47m</td>\n",
       "      <td>PG</td>\n",
       "      <td>8.3</td>\n",
       "      <td>227</td>\n",
       "    </tr>\n",
       "    <tr>\n",
       "      <th>162</th>\n",
       "      <td>163</td>\n",
       "      <td>Gone with the Wind</td>\n",
       "      <td>1939</td>\n",
       "      <td>3h 58m</td>\n",
       "      <td>G</td>\n",
       "      <td>8.2</td>\n",
       "      <td>238</td>\n",
       "    </tr>\n",
       "    <tr>\n",
       "      <th>182</th>\n",
       "      <td>183</td>\n",
       "      <td>Ben-Hur</td>\n",
       "      <td>1959</td>\n",
       "      <td>3h 32m</td>\n",
       "      <td>G</td>\n",
       "      <td>8.1</td>\n",
       "      <td>212</td>\n",
       "    </tr>\n",
       "    <tr>\n",
       "      <th>184</th>\n",
       "      <td>185</td>\n",
       "      <td>Barry Lyndon</td>\n",
       "      <td>1975</td>\n",
       "      <td>3h 5m</td>\n",
       "      <td>PG</td>\n",
       "      <td>8.1</td>\n",
       "      <td>185</td>\n",
       "    </tr>\n",
       "    <tr>\n",
       "      <th>201</th>\n",
       "      <td>202</td>\n",
       "      <td>The Deer Hunter</td>\n",
       "      <td>1978</td>\n",
       "      <td>3h 3m</td>\n",
       "      <td>R</td>\n",
       "      <td>8.1</td>\n",
       "      <td>183</td>\n",
       "    </tr>\n",
       "  </tbody>\n",
       "</table>\n",
       "</div>"
      ],
      "text/plain": [
       "     Rank                                          Title  Release Runtime  \\\n",
       "3       4                          The Godfather Part II     1974  3h 22m   \n",
       "5       6  The Lord of the Rings: The Return of the King     2003  3h 21m   \n",
       "6       7                               Schindler's List     1993  3h 15m   \n",
       "21     22                                  Seven Samurai     1954  3h 27m   \n",
       "25     26                                 The Green Mile     1999   3h 9m   \n",
       "74     75                              Avengers: Endgame     2019   3h 1m   \n",
       "86     87                    Once Upon a Time in America     1984  3h 49m   \n",
       "99    100                             Lawrence of Arabia     1962  3h 47m   \n",
       "162   163                             Gone with the Wind     1939  3h 58m   \n",
       "182   183                                        Ben-Hur     1959  3h 32m   \n",
       "184   185                                   Barry Lyndon     1975   3h 5m   \n",
       "201   202                                The Deer Hunter     1978   3h 3m   \n",
       "\n",
       "         Rated  Ratings  Runtime_Minutes  \n",
       "3            R      9.0              202  \n",
       "5        PG-13      9.0              201  \n",
       "6            R      9.0              195  \n",
       "21   Not Rated      8.6              207  \n",
       "25           R      8.6              189  \n",
       "74       PG-13      8.4              181  \n",
       "86           R      8.3              229  \n",
       "99          PG      8.3              227  \n",
       "162          G      8.2              238  \n",
       "182          G      8.1              212  \n",
       "184         PG      8.1              185  \n",
       "201          R      8.1              183  "
      ]
     },
     "execution_count": 13,
     "metadata": {},
     "output_type": "execute_result"
    }
   ],
   "source": [
    "movies_clean = movies.copy()\n",
    "movies_clean['Runtime_Minutes'] = (\n",
    "    movies_clean['Runtime']\n",
    "    .str.extract(r'(?:(\\d+)h)?\\s?(?:(\\d+)m)?')\n",
    "    .fillna(0)\n",
    "    .astype(int)\n",
    "    .pipe(lambda df: df[0]*60 + df[1])\n",
    ")\n",
    "\n",
    "movies_clean[movies_clean['Runtime_Minutes'] > 180]"
   ]
  },
  {
   "cell_type": "markdown",
   "id": "c950ee97",
   "metadata": {},
   "source": [
    "### 3.4 Select movies that are both rated above 8.5 and released after 2010."
   ]
  },
  {
   "cell_type": "code",
   "execution_count": 14,
   "id": "8b86f137",
   "metadata": {},
   "outputs": [
    {
     "data": {
      "text/html": [
       "<div>\n",
       "<style scoped>\n",
       "    .dataframe tbody tr th:only-of-type {\n",
       "        vertical-align: middle;\n",
       "    }\n",
       "\n",
       "    .dataframe tbody tr th {\n",
       "        vertical-align: top;\n",
       "    }\n",
       "\n",
       "    .dataframe thead th {\n",
       "        text-align: right;\n",
       "    }\n",
       "</style>\n",
       "<table border=\"1\" class=\"dataframe\">\n",
       "  <thead>\n",
       "    <tr style=\"text-align: right;\">\n",
       "      <th></th>\n",
       "      <th>Rank</th>\n",
       "      <th>Title</th>\n",
       "      <th>Release</th>\n",
       "      <th>Runtime</th>\n",
       "      <th>Rated</th>\n",
       "      <th>Ratings</th>\n",
       "    </tr>\n",
       "  </thead>\n",
       "  <tbody>\n",
       "    <tr>\n",
       "      <th>18</th>\n",
       "      <td>19</td>\n",
       "      <td>Interstellar</td>\n",
       "      <td>2014</td>\n",
       "      <td>2h 49m</td>\n",
       "      <td>PG-13</td>\n",
       "      <td>8.7</td>\n",
       "    </tr>\n",
       "    <tr>\n",
       "      <th>65</th>\n",
       "      <td>66</td>\n",
       "      <td>12th Fail</td>\n",
       "      <td>2023</td>\n",
       "      <td>2h 27m</td>\n",
       "      <td>Not Rated</td>\n",
       "      <td>8.8</td>\n",
       "    </tr>\n",
       "    <tr>\n",
       "      <th>210</th>\n",
       "      <td>211</td>\n",
       "      <td>Demon Slayer: Kimetsu no Yaiba - Tsuzumi Mansi...</td>\n",
       "      <td>2021</td>\n",
       "      <td>1h 27m</td>\n",
       "      <td>Not Rated</td>\n",
       "      <td>8.6</td>\n",
       "    </tr>\n",
       "    <tr>\n",
       "      <th>224</th>\n",
       "      <td>225</td>\n",
       "      <td>Jai Bhim</td>\n",
       "      <td>2021</td>\n",
       "      <td>2h 44m</td>\n",
       "      <td>Approved</td>\n",
       "      <td>8.7</td>\n",
       "    </tr>\n",
       "  </tbody>\n",
       "</table>\n",
       "</div>"
      ],
      "text/plain": [
       "     Rank                                              Title  Release Runtime  \\\n",
       "18     19                                       Interstellar     2014  2h 49m   \n",
       "65     66                                          12th Fail     2023  2h 27m   \n",
       "210   211  Demon Slayer: Kimetsu no Yaiba - Tsuzumi Mansi...     2021  1h 27m   \n",
       "224   225                                           Jai Bhim     2021  2h 44m   \n",
       "\n",
       "         Rated  Ratings  \n",
       "18       PG-13      8.7  \n",
       "65   Not Rated      8.8  \n",
       "210  Not Rated      8.6  \n",
       "224   Approved      8.7  "
      ]
     },
     "execution_count": 14,
     "metadata": {},
     "output_type": "execute_result"
    }
   ],
   "source": [
    "movies[(movies['Ratings'] > 8.5) & (movies['Release'] > 2010)]"
   ]
  },
  {
   "cell_type": "markdown",
   "id": "8962ac42",
   "metadata": {},
   "source": [
    "## Task 4 – Indexing\n",
    "\n",
    "### 4.1 Select the movie at index 50 using .iloc."
   ]
  },
  {
   "cell_type": "code",
   "execution_count": 15,
   "id": "4c2f7fb1",
   "metadata": {},
   "outputs": [
    {
     "data": {
      "text/plain": [
       "Rank                51\n",
       "Title      Rear Window\n",
       "Release           1954\n",
       "Runtime         1h 52m\n",
       "Rated               PG\n",
       "Ratings            8.5\n",
       "Name: 50, dtype: object"
      ]
     },
     "execution_count": 15,
     "metadata": {},
     "output_type": "execute_result"
    }
   ],
   "source": [
    "movies.iloc[50]"
   ]
  },
  {
   "cell_type": "markdown",
   "id": "f9112a2e",
   "metadata": {},
   "source": [
    "### 4.2 Select the movie ranked #1 using .loc."
   ]
  },
  {
   "cell_type": "code",
   "execution_count": 16,
   "id": "ee904893",
   "metadata": {},
   "outputs": [
    {
     "data": {
      "text/html": [
       "<div>\n",
       "<style scoped>\n",
       "    .dataframe tbody tr th:only-of-type {\n",
       "        vertical-align: middle;\n",
       "    }\n",
       "\n",
       "    .dataframe tbody tr th {\n",
       "        vertical-align: top;\n",
       "    }\n",
       "\n",
       "    .dataframe thead th {\n",
       "        text-align: right;\n",
       "    }\n",
       "</style>\n",
       "<table border=\"1\" class=\"dataframe\">\n",
       "  <thead>\n",
       "    <tr style=\"text-align: right;\">\n",
       "      <th></th>\n",
       "      <th>Rank</th>\n",
       "      <th>Title</th>\n",
       "      <th>Release</th>\n",
       "      <th>Runtime</th>\n",
       "      <th>Rated</th>\n",
       "      <th>Ratings</th>\n",
       "    </tr>\n",
       "  </thead>\n",
       "  <tbody>\n",
       "    <tr>\n",
       "      <th>0</th>\n",
       "      <td>1</td>\n",
       "      <td>The Shawshank Redemption</td>\n",
       "      <td>1994</td>\n",
       "      <td>2h 22m</td>\n",
       "      <td>R</td>\n",
       "      <td>9.3</td>\n",
       "    </tr>\n",
       "  </tbody>\n",
       "</table>\n",
       "</div>"
      ],
      "text/plain": [
       "   Rank                     Title  Release Runtime Rated  Ratings\n",
       "0     1  The Shawshank Redemption     1994  2h 22m     R      9.3"
      ]
     },
     "execution_count": 16,
     "metadata": {},
     "output_type": "execute_result"
    }
   ],
   "source": [
    "movies.loc[movies['Rank'] == 1]"
   ]
  },
  {
   "cell_type": "markdown",
   "id": "b9f49460",
   "metadata": {},
   "source": [
    "### 4.3 Select the Title and Ratings for movies ranked between 10 and 20."
   ]
  },
  {
   "cell_type": "code",
   "execution_count": 17,
   "id": "2d58e20c",
   "metadata": {},
   "outputs": [
    {
     "data": {
      "text/html": [
       "<div>\n",
       "<style scoped>\n",
       "    .dataframe tbody tr th:only-of-type {\n",
       "        vertical-align: middle;\n",
       "    }\n",
       "\n",
       "    .dataframe tbody tr th {\n",
       "        vertical-align: top;\n",
       "    }\n",
       "\n",
       "    .dataframe thead th {\n",
       "        text-align: right;\n",
       "    }\n",
       "</style>\n",
       "<table border=\"1\" class=\"dataframe\">\n",
       "  <thead>\n",
       "    <tr style=\"text-align: right;\">\n",
       "      <th></th>\n",
       "      <th>Title</th>\n",
       "      <th>Ratings</th>\n",
       "    </tr>\n",
       "  </thead>\n",
       "  <tbody>\n",
       "    <tr>\n",
       "      <th>9</th>\n",
       "      <td>The Good, the Bad and the Ugly</td>\n",
       "      <td>8.8</td>\n",
       "    </tr>\n",
       "    <tr>\n",
       "      <th>10</th>\n",
       "      <td>Forrest Gump</td>\n",
       "      <td>8.8</td>\n",
       "    </tr>\n",
       "    <tr>\n",
       "      <th>11</th>\n",
       "      <td>The Lord of the Rings: The Two Towers</td>\n",
       "      <td>8.8</td>\n",
       "    </tr>\n",
       "    <tr>\n",
       "      <th>12</th>\n",
       "      <td>Fight Club</td>\n",
       "      <td>8.8</td>\n",
       "    </tr>\n",
       "    <tr>\n",
       "      <th>13</th>\n",
       "      <td>Inception</td>\n",
       "      <td>8.8</td>\n",
       "    </tr>\n",
       "    <tr>\n",
       "      <th>14</th>\n",
       "      <td>Star Wars: Episode V - The Empire Strikes Back</td>\n",
       "      <td>8.7</td>\n",
       "    </tr>\n",
       "    <tr>\n",
       "      <th>15</th>\n",
       "      <td>The Matrix</td>\n",
       "      <td>8.7</td>\n",
       "    </tr>\n",
       "    <tr>\n",
       "      <th>16</th>\n",
       "      <td>Goodfellas</td>\n",
       "      <td>8.7</td>\n",
       "    </tr>\n",
       "    <tr>\n",
       "      <th>17</th>\n",
       "      <td>One Flew Over the Cuckoo's Nest</td>\n",
       "      <td>8.7</td>\n",
       "    </tr>\n",
       "    <tr>\n",
       "      <th>18</th>\n",
       "      <td>Interstellar</td>\n",
       "      <td>8.7</td>\n",
       "    </tr>\n",
       "    <tr>\n",
       "      <th>19</th>\n",
       "      <td>Se7en</td>\n",
       "      <td>8.6</td>\n",
       "    </tr>\n",
       "  </tbody>\n",
       "</table>\n",
       "</div>"
      ],
      "text/plain": [
       "                                             Title  Ratings\n",
       "9                   The Good, the Bad and the Ugly      8.8\n",
       "10                                    Forrest Gump      8.8\n",
       "11           The Lord of the Rings: The Two Towers      8.8\n",
       "12                                      Fight Club      8.8\n",
       "13                                       Inception      8.8\n",
       "14  Star Wars: Episode V - The Empire Strikes Back      8.7\n",
       "15                                      The Matrix      8.7\n",
       "16                                      Goodfellas      8.7\n",
       "17                 One Flew Over the Cuckoo's Nest      8.7\n",
       "18                                    Interstellar      8.7\n",
       "19                                           Se7en      8.6"
      ]
     },
     "execution_count": 17,
     "metadata": {},
     "output_type": "execute_result"
    }
   ],
   "source": [
    "movies.loc[movies['Rank'].between(10, 20), ['Title', 'Ratings']]"
   ]
  },
  {
   "cell_type": "markdown",
   "id": "a98bbe1c",
   "metadata": {},
   "source": [
    "## Task 5 – Basic analysis\n",
    "\n",
    "### 5.1 Calculate the average movie rating."
   ]
  },
  {
   "cell_type": "code",
   "execution_count": 18,
   "id": "f94d60d0",
   "metadata": {},
   "outputs": [
    {
     "name": "stdout",
     "output_type": "stream",
     "text": [
      "The average movie rating is 8.31\n"
     ]
    }
   ],
   "source": [
    "print(f\"The average movie rating is {movies['Ratings'].mean():.2f}\")"
   ]
  },
  {
   "cell_type": "markdown",
   "id": "9bfcae17",
   "metadata": {},
   "source": [
    "### 5.2 Find the median runtime."
   ]
  },
  {
   "cell_type": "code",
   "execution_count": 19,
   "id": "3c8c681e",
   "metadata": {},
   "outputs": [
    {
     "name": "stdout",
     "output_type": "stream",
     "text": [
      "The median runtime is 2h 8m\n"
     ]
    }
   ],
   "source": [
    "runtime_median = movies_clean['Runtime_Minutes'].median()\n",
    "\n",
    "hours = int(runtime_median // 60)\n",
    "minutes = round(runtime_median % 60)\n",
    "\n",
    "print(f\"The median runtime is {hours}h {minutes}m\")"
   ]
  },
  {
   "cell_type": "markdown",
   "id": "1c8f8ce5",
   "metadata": {},
   "source": [
    "### 5.3 Count how many movies belong to each rating category."
   ]
  },
  {
   "cell_type": "code",
   "execution_count": 20,
   "id": "4df0e71a",
   "metadata": {},
   "outputs": [
    {
     "data": {
      "text/plain": [
       "Ratings\n",
       "8.1    73\n",
       "8.2    51\n",
       "8.3    41\n",
       "8.5    24\n",
       "8.4    24\n",
       "8.6    13\n",
       "8.8     6\n",
       "8.7     6\n",
       "9.0     5\n",
       "8.0     3\n",
       "8.9     2\n",
       "9.3     1\n",
       "9.2     1\n",
       "Name: count, dtype: int64"
      ]
     },
     "execution_count": 20,
     "metadata": {},
     "output_type": "execute_result"
    }
   ],
   "source": [
    "movies['Ratings'].value_counts()"
   ]
  },
  {
   "cell_type": "markdown",
   "id": "49125d87",
   "metadata": {},
   "source": [
    "### 5.4 Find the oldest and the newest movie in the dataset."
   ]
  },
  {
   "cell_type": "code",
   "execution_count": 21,
   "id": "15f6ef44",
   "metadata": {},
   "outputs": [
    {
     "data": {
      "text/html": [
       "<div>\n",
       "<style scoped>\n",
       "    .dataframe tbody tr th:only-of-type {\n",
       "        vertical-align: middle;\n",
       "    }\n",
       "\n",
       "    .dataframe tbody tr th {\n",
       "        vertical-align: top;\n",
       "    }\n",
       "\n",
       "    .dataframe thead th {\n",
       "        text-align: right;\n",
       "    }\n",
       "</style>\n",
       "<table border=\"1\" class=\"dataframe\">\n",
       "  <thead>\n",
       "    <tr style=\"text-align: right;\">\n",
       "      <th></th>\n",
       "      <th>Release</th>\n",
       "    </tr>\n",
       "  </thead>\n",
       "  <tbody>\n",
       "    <tr>\n",
       "      <th>oldest</th>\n",
       "      <td>1921</td>\n",
       "    </tr>\n",
       "    <tr>\n",
       "      <th>newest</th>\n",
       "      <td>2024</td>\n",
       "    </tr>\n",
       "  </tbody>\n",
       "</table>\n",
       "</div>"
      ],
      "text/plain": [
       "        Release\n",
       "oldest     1921\n",
       "newest     2024"
      ]
     },
     "execution_count": 21,
     "metadata": {},
     "output_type": "execute_result"
    }
   ],
   "source": [
    "movies.agg(oldest=('Release', 'min'),\n",
    "           newest=('Release', 'max'))"
   ]
  },
  {
   "cell_type": "markdown",
   "id": "d10a7dcb",
   "metadata": {},
   "source": [
    "## Task 6 – Grouping and aggregation\n",
    "\n",
    "### 6.1 Find the average rating by release decade (e.g., 1970s, 1980s, etc.)."
   ]
  },
  {
   "cell_type": "code",
   "execution_count": 22,
   "id": "a59322e2",
   "metadata": {},
   "outputs": [
    {
     "data": {
      "text/plain": [
       "Decade\n",
       "1920s     6\n",
       "1930s     6\n",
       "1940s    12\n",
       "1950s    22\n",
       "1960s    16\n",
       "1970s    17\n",
       "1980s    26\n",
       "1990s    40\n",
       "2000s    48\n",
       "2010s    45\n",
       "2020s    12\n",
       "dtype: int64"
      ]
     },
     "execution_count": 22,
     "metadata": {},
     "output_type": "execute_result"
    }
   ],
   "source": [
    "\n",
    "movies_clean['Decade'] = (\n",
    "    movies['Release']\n",
    "    .pipe(lambda df: df//10 * 10)\n",
    "    .astype(str)\n",
    "    .pipe(lambda df: df + 's'))\n",
    "movies_clean.groupby(by='Decade').size()  "
   ]
  },
  {
   "cell_type": "markdown",
   "id": "09a7b484",
   "metadata": {},
   "source": [
    "### 6.2 Find the longest movie in each decade."
   ]
  },
  {
   "cell_type": "code",
   "execution_count": 23,
   "id": "00773e44",
   "metadata": {},
   "outputs": [
    {
     "data": {
      "text/html": [
       "<div>\n",
       "<style scoped>\n",
       "    .dataframe tbody tr th:only-of-type {\n",
       "        vertical-align: middle;\n",
       "    }\n",
       "\n",
       "    .dataframe tbody tr th {\n",
       "        vertical-align: top;\n",
       "    }\n",
       "\n",
       "    .dataframe thead th {\n",
       "        text-align: right;\n",
       "    }\n",
       "</style>\n",
       "<table border=\"1\" class=\"dataframe\">\n",
       "  <thead>\n",
       "    <tr style=\"text-align: right;\">\n",
       "      <th></th>\n",
       "      <th>Decade</th>\n",
       "      <th>Title</th>\n",
       "      <th>Runtime_Minutes</th>\n",
       "    </tr>\n",
       "  </thead>\n",
       "  <tbody>\n",
       "    <tr>\n",
       "      <th>119</th>\n",
       "      <td>1920s</td>\n",
       "      <td>Metropolis</td>\n",
       "      <td>153</td>\n",
       "    </tr>\n",
       "    <tr>\n",
       "      <th>162</th>\n",
       "      <td>1930s</td>\n",
       "      <td>Gone with the Wind</td>\n",
       "      <td>238</td>\n",
       "    </tr>\n",
       "    <tr>\n",
       "      <th>226</th>\n",
       "      <td>1940s</td>\n",
       "      <td>The Best Years of Our Lives</td>\n",
       "      <td>170</td>\n",
       "    </tr>\n",
       "    <tr>\n",
       "      <th>182</th>\n",
       "      <td>1950s</td>\n",
       "      <td>Ben-Hur</td>\n",
       "      <td>212</td>\n",
       "    </tr>\n",
       "    <tr>\n",
       "      <th>99</th>\n",
       "      <td>1960s</td>\n",
       "      <td>Lawrence of Arabia</td>\n",
       "      <td>227</td>\n",
       "    </tr>\n",
       "    <tr>\n",
       "      <th>3</th>\n",
       "      <td>1970s</td>\n",
       "      <td>The Godfather Part II</td>\n",
       "      <td>202</td>\n",
       "    </tr>\n",
       "    <tr>\n",
       "      <th>86</th>\n",
       "      <td>1980s</td>\n",
       "      <td>Once Upon a Time in America</td>\n",
       "      <td>229</td>\n",
       "    </tr>\n",
       "    <tr>\n",
       "      <th>6</th>\n",
       "      <td>1990s</td>\n",
       "      <td>Schindler's List</td>\n",
       "      <td>195</td>\n",
       "    </tr>\n",
       "    <tr>\n",
       "      <th>5</th>\n",
       "      <td>2000s</td>\n",
       "      <td>The Lord of the Rings: The Return of the King</td>\n",
       "      <td>201</td>\n",
       "    </tr>\n",
       "    <tr>\n",
       "      <th>74</th>\n",
       "      <td>2010s</td>\n",
       "      <td>Avengers: Endgame</td>\n",
       "      <td>181</td>\n",
       "    </tr>\n",
       "    <tr>\n",
       "      <th>111</th>\n",
       "      <td>2020s</td>\n",
       "      <td>Oppenheimer</td>\n",
       "      <td>180</td>\n",
       "    </tr>\n",
       "  </tbody>\n",
       "</table>\n",
       "</div>"
      ],
      "text/plain": [
       "    Decade                                          Title  Runtime_Minutes\n",
       "119  1920s                                     Metropolis              153\n",
       "162  1930s                             Gone with the Wind              238\n",
       "226  1940s                    The Best Years of Our Lives              170\n",
       "182  1950s                                        Ben-Hur              212\n",
       "99   1960s                             Lawrence of Arabia              227\n",
       "3    1970s                          The Godfather Part II              202\n",
       "86   1980s                    Once Upon a Time in America              229\n",
       "6    1990s                               Schindler's List              195\n",
       "5    2000s  The Lord of the Rings: The Return of the King              201\n",
       "74   2010s                              Avengers: Endgame              181\n",
       "111  2020s                                    Oppenheimer              180"
      ]
     },
     "execution_count": 23,
     "metadata": {},
     "output_type": "execute_result"
    }
   ],
   "source": [
    "movies_clean.loc[\n",
    "    movies_clean.groupby('Decade')['Runtime_Minutes'].idxmax(),\n",
    "    ['Decade', 'Title', 'Runtime_Minutes']\n",
    "]"
   ]
  },
  {
   "cell_type": "markdown",
   "id": "9aa4ea9c",
   "metadata": {},
   "source": [
    "### 6.3 Find the top 5 movies with the highest ratings in the 21st century (2000+)."
   ]
  },
  {
   "cell_type": "code",
   "execution_count": 24,
   "id": "79e45756",
   "metadata": {},
   "outputs": [
    {
     "data": {
      "text/html": [
       "<div>\n",
       "<style scoped>\n",
       "    .dataframe tbody tr th:only-of-type {\n",
       "        vertical-align: middle;\n",
       "    }\n",
       "\n",
       "    .dataframe tbody tr th {\n",
       "        vertical-align: top;\n",
       "    }\n",
       "\n",
       "    .dataframe thead th {\n",
       "        text-align: right;\n",
       "    }\n",
       "</style>\n",
       "<table border=\"1\" class=\"dataframe\">\n",
       "  <thead>\n",
       "    <tr style=\"text-align: right;\">\n",
       "      <th></th>\n",
       "      <th>Rank</th>\n",
       "      <th>Title</th>\n",
       "      <th>Release</th>\n",
       "      <th>Runtime</th>\n",
       "      <th>Rated</th>\n",
       "      <th>Ratings</th>\n",
       "      <th>Runtime_Minutes</th>\n",
       "      <th>Decade</th>\n",
       "    </tr>\n",
       "  </thead>\n",
       "  <tbody>\n",
       "    <tr>\n",
       "      <th>2</th>\n",
       "      <td>3</td>\n",
       "      <td>The Dark Knight</td>\n",
       "      <td>2008</td>\n",
       "      <td>2h 32m</td>\n",
       "      <td>PG-13</td>\n",
       "      <td>9.0</td>\n",
       "      <td>152</td>\n",
       "      <td>2000s</td>\n",
       "    </tr>\n",
       "    <tr>\n",
       "      <th>5</th>\n",
       "      <td>6</td>\n",
       "      <td>The Lord of the Rings: The Return of the King</td>\n",
       "      <td>2003</td>\n",
       "      <td>3h 21m</td>\n",
       "      <td>PG-13</td>\n",
       "      <td>9.0</td>\n",
       "      <td>201</td>\n",
       "      <td>2000s</td>\n",
       "    </tr>\n",
       "    <tr>\n",
       "      <th>8</th>\n",
       "      <td>9</td>\n",
       "      <td>The Lord of the Rings: The Fellowship of the Ring</td>\n",
       "      <td>2001</td>\n",
       "      <td>2h 58m</td>\n",
       "      <td>PG-13</td>\n",
       "      <td>8.9</td>\n",
       "      <td>178</td>\n",
       "      <td>2000s</td>\n",
       "    </tr>\n",
       "    <tr>\n",
       "      <th>11</th>\n",
       "      <td>12</td>\n",
       "      <td>The Lord of the Rings: The Two Towers</td>\n",
       "      <td>2002</td>\n",
       "      <td>2h 59m</td>\n",
       "      <td>PG-13</td>\n",
       "      <td>8.8</td>\n",
       "      <td>179</td>\n",
       "      <td>2000s</td>\n",
       "    </tr>\n",
       "    <tr>\n",
       "      <th>13</th>\n",
       "      <td>14</td>\n",
       "      <td>Inception</td>\n",
       "      <td>2010</td>\n",
       "      <td>2h 28m</td>\n",
       "      <td>PG-13</td>\n",
       "      <td>8.8</td>\n",
       "      <td>148</td>\n",
       "      <td>2010s</td>\n",
       "    </tr>\n",
       "  </tbody>\n",
       "</table>\n",
       "</div>"
      ],
      "text/plain": [
       "    Rank                                              Title  Release Runtime  \\\n",
       "2      3                                    The Dark Knight     2008  2h 32m   \n",
       "5      6      The Lord of the Rings: The Return of the King     2003  3h 21m   \n",
       "8      9  The Lord of the Rings: The Fellowship of the Ring     2001  2h 58m   \n",
       "11    12              The Lord of the Rings: The Two Towers     2002  2h 59m   \n",
       "13    14                                          Inception     2010  2h 28m   \n",
       "\n",
       "    Rated  Ratings  Runtime_Minutes Decade  \n",
       "2   PG-13      9.0              152  2000s  \n",
       "5   PG-13      9.0              201  2000s  \n",
       "8   PG-13      8.9              178  2000s  \n",
       "11  PG-13      8.8              179  2000s  \n",
       "13  PG-13      8.8              148  2010s  "
      ]
     },
     "execution_count": 24,
     "metadata": {},
     "output_type": "execute_result"
    }
   ],
   "source": [
    "movies_clean[movies_clean['Release'] >= 2000].sort_values(by='Ratings', ascending=False).head()"
   ]
  },
  {
   "cell_type": "markdown",
   "id": "170f58f2",
   "metadata": {},
   "source": [
    "## Task 7 – Small challenge\n",
    "\n",
    "### 7.1 Create a new column Runtime_Hours that stores runtime in hours (rounded to 1 decimal place)."
   ]
  },
  {
   "cell_type": "code",
   "execution_count": 25,
   "id": "f7b738f4",
   "metadata": {},
   "outputs": [
    {
     "data": {
      "text/html": [
       "<div>\n",
       "<style scoped>\n",
       "    .dataframe tbody tr th:only-of-type {\n",
       "        vertical-align: middle;\n",
       "    }\n",
       "\n",
       "    .dataframe tbody tr th {\n",
       "        vertical-align: top;\n",
       "    }\n",
       "\n",
       "    .dataframe thead th {\n",
       "        text-align: right;\n",
       "    }\n",
       "</style>\n",
       "<table border=\"1\" class=\"dataframe\">\n",
       "  <thead>\n",
       "    <tr style=\"text-align: right;\">\n",
       "      <th></th>\n",
       "      <th>Rank</th>\n",
       "      <th>Title</th>\n",
       "      <th>Release</th>\n",
       "      <th>Runtime</th>\n",
       "      <th>Rated</th>\n",
       "      <th>Ratings</th>\n",
       "      <th>Runtime_Minutes</th>\n",
       "      <th>Decade</th>\n",
       "      <th>Runtime_Hours</th>\n",
       "    </tr>\n",
       "  </thead>\n",
       "  <tbody>\n",
       "    <tr>\n",
       "      <th>0</th>\n",
       "      <td>1</td>\n",
       "      <td>The Shawshank Redemption</td>\n",
       "      <td>1994</td>\n",
       "      <td>2h 22m</td>\n",
       "      <td>R</td>\n",
       "      <td>9.3</td>\n",
       "      <td>142</td>\n",
       "      <td>1990s</td>\n",
       "      <td>2.4</td>\n",
       "    </tr>\n",
       "    <tr>\n",
       "      <th>1</th>\n",
       "      <td>2</td>\n",
       "      <td>The Godfather</td>\n",
       "      <td>1972</td>\n",
       "      <td>2h 55m</td>\n",
       "      <td>R</td>\n",
       "      <td>9.2</td>\n",
       "      <td>175</td>\n",
       "      <td>1970s</td>\n",
       "      <td>2.9</td>\n",
       "    </tr>\n",
       "    <tr>\n",
       "      <th>2</th>\n",
       "      <td>3</td>\n",
       "      <td>The Dark Knight</td>\n",
       "      <td>2008</td>\n",
       "      <td>2h 32m</td>\n",
       "      <td>PG-13</td>\n",
       "      <td>9.0</td>\n",
       "      <td>152</td>\n",
       "      <td>2000s</td>\n",
       "      <td>2.5</td>\n",
       "    </tr>\n",
       "    <tr>\n",
       "      <th>3</th>\n",
       "      <td>4</td>\n",
       "      <td>The Godfather Part II</td>\n",
       "      <td>1974</td>\n",
       "      <td>3h 22m</td>\n",
       "      <td>R</td>\n",
       "      <td>9.0</td>\n",
       "      <td>202</td>\n",
       "      <td>1970s</td>\n",
       "      <td>3.4</td>\n",
       "    </tr>\n",
       "    <tr>\n",
       "      <th>4</th>\n",
       "      <td>5</td>\n",
       "      <td>12 Angry Men</td>\n",
       "      <td>1957</td>\n",
       "      <td>1h 36m</td>\n",
       "      <td>Approved</td>\n",
       "      <td>9.0</td>\n",
       "      <td>96</td>\n",
       "      <td>1950s</td>\n",
       "      <td>1.6</td>\n",
       "    </tr>\n",
       "  </tbody>\n",
       "</table>\n",
       "</div>"
      ],
      "text/plain": [
       "   Rank                     Title  Release Runtime     Rated  Ratings  \\\n",
       "0     1  The Shawshank Redemption     1994  2h 22m         R      9.3   \n",
       "1     2             The Godfather     1972  2h 55m         R      9.2   \n",
       "2     3           The Dark Knight     2008  2h 32m     PG-13      9.0   \n",
       "3     4     The Godfather Part II     1974  3h 22m         R      9.0   \n",
       "4     5              12 Angry Men     1957  1h 36m  Approved      9.0   \n",
       "\n",
       "   Runtime_Minutes Decade  Runtime_Hours  \n",
       "0              142  1990s            2.4  \n",
       "1              175  1970s            2.9  \n",
       "2              152  2000s            2.5  \n",
       "3              202  1970s            3.4  \n",
       "4               96  1950s            1.6  "
      ]
     },
     "execution_count": 25,
     "metadata": {},
     "output_type": "execute_result"
    }
   ],
   "source": [
    "movies_clean =movies_clean.assign(\n",
    "    Runtime_Hours = lambda df: (df['Runtime_Minutes'] / 60).round(1)\n",
    ")\n",
    "movies_clean.head()"
   ]
  },
  {
   "cell_type": "markdown",
   "id": "17a2c3cd",
   "metadata": {},
   "source": [
    "\n",
    "### 7.2 Find the movie with the highest rating-to-runtime ratio (Ratings / Runtime).\n",
    "\n"
   ]
  },
  {
   "cell_type": "code",
   "execution_count": 26,
   "id": "9858a506",
   "metadata": {},
   "outputs": [
    {
     "data": {
      "text/plain": [
       "Title      Sherlock Jr.\n",
       "Ratings             8.2\n",
       "Runtime             45m\n",
       "Name: 200, dtype: object"
      ]
     },
     "execution_count": 26,
     "metadata": {},
     "output_type": "execute_result"
    }
   ],
   "source": [
    "movies_clean.loc[\n",
    "    (movies_clean['Ratings']/movies_clean['Runtime_Hours'])\n",
    "    .idxmax()\n",
    "][['Title', 'Ratings', 'Runtime']]"
   ]
  },
  {
   "cell_type": "markdown",
   "id": "54591551",
   "metadata": {},
   "source": [
    "### 7.3 Which rating category (Rated) has the highest average audience score?"
   ]
  },
  {
   "cell_type": "code",
   "execution_count": 27,
   "id": "9b1290ff",
   "metadata": {},
   "outputs": [
    {
     "data": {
      "text/plain": [
       "Rated\n",
       "PG-13    8.377143\n",
       "Name: Ratings, dtype: float64"
      ]
     },
     "execution_count": 27,
     "metadata": {},
     "output_type": "execute_result"
    }
   ],
   "source": [
    "movies_clean.groupby('Rated')['Ratings'].mean().sort_values(ascending=False).head(1)"
   ]
  }
 ],
 "metadata": {
  "kernelspec": {
   "display_name": "base",
   "language": "python",
   "name": "python3"
  },
  "language_info": {
   "codemirror_mode": {
    "name": "ipython",
    "version": 3
   },
   "file_extension": ".py",
   "mimetype": "text/x-python",
   "name": "python",
   "nbconvert_exporter": "python",
   "pygments_lexer": "ipython3",
   "version": "3.13.5"
  }
 },
 "nbformat": 4,
 "nbformat_minor": 5
}
