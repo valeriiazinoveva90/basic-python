{
 "cells": [
  {
   "cell_type": "markdown",
   "id": "a5cca9ba-8627-4cb1-aa7e-fa65f633c85f",
   "metadata": {},
   "source": [
    "# Day 2 — Python Practice¶"
   ]
  },
  {
   "cell_type": "code",
   "execution_count": 1,
   "id": "d1a3a81f-761c-47bf-82c2-a9383e8791ae",
   "metadata": {},
   "outputs": [],
   "source": [
    "import numpy as np"
   ]
  },
  {
   "cell_type": "markdown",
   "id": "a95e6522-8fb0-4631-b871-f5215a0bbddb",
   "metadata": {},
   "source": [
    "## Task 1 – Array creation\n",
    "\n",
    "### 1.1 Create a NumPy array from a Python list `[1, 2, 3, 4, 5]`."
   ]
  },
  {
   "cell_type": "code",
   "execution_count": 2,
   "id": "5d58bea0-7ea2-47b5-971f-d2764c0bac30",
   "metadata": {},
   "outputs": [],
   "source": [
    "np_array = np.array([1,2,3,4,5])"
   ]
  },
  {
   "cell_type": "code",
   "execution_count": 3,
   "id": "54eb720c-532e-4969-91cc-dab12e517930",
   "metadata": {},
   "outputs": [
    {
     "name": "stdout",
     "output_type": "stream",
     "text": [
      "✅ Task 1.1 passed!\n"
     ]
    }
   ],
   "source": [
    "assert isinstance(np_array, np.ndarray), \\\n",
    "       \"❌ Task 1.1 failed: the array type is incorrect\"\n",
    "assert np.array_equal(np_array, [1, 2, 3, 4, 5]), \\\n",
    "       \"❌ Task 1.1 failed: the array values are incorrect\"\n",
    "print(\"✅ Task 1.1 passed!\")"
   ]
  },
  {
   "cell_type": "markdown",
   "id": "00e72171-0d1b-4743-aba5-3473c8d6c8a8",
   "metadata": {},
   "source": [
    "### 1.2 Create an array of 10 zeros."
   ]
  },
  {
   "cell_type": "code",
   "execution_count": 4,
   "id": "7ab90a74-ac6b-4bcf-8b78-22a31244c285",
   "metadata": {},
   "outputs": [],
   "source": [
    "zeros_array = np.zeros(5)"
   ]
  },
  {
   "cell_type": "code",
   "execution_count": 5,
   "id": "f487f5dc-f837-4a1d-8a12-6058f5c318c1",
   "metadata": {},
   "outputs": [
    {
     "name": "stdout",
     "output_type": "stream",
     "text": [
      "✅ Task 1.2 passed!\n"
     ]
    }
   ],
   "source": [
    "assert np.allclose(zeros_array, [0.] * 5), \\\n",
    "       \"❌ Task 1.2 failed: the array values are incorrect\"\n",
    "print(\"✅ Task 1.2 passed!\")"
   ]
  },
  {
   "cell_type": "markdown",
   "id": "04007bf3-7dfa-4624-8c62-93fa7f6be832",
   "metadata": {},
   "source": [
    "### 1.3 Create an array of 10 ones."
   ]
  },
  {
   "cell_type": "code",
   "execution_count": 6,
   "id": "68e1ffee-4b87-43a4-bfb8-3f817676855f",
   "metadata": {},
   "outputs": [],
   "source": [
    "ones_array = np.ones(5)"
   ]
  },
  {
   "cell_type": "code",
   "execution_count": 7,
   "id": "deeb4be8-48fb-4e2a-adc7-a95676fa683e",
   "metadata": {},
   "outputs": [
    {
     "name": "stdout",
     "output_type": "stream",
     "text": [
      "✅ Task 1.3 passed!\n"
     ]
    }
   ],
   "source": [
    "assert np.allclose(ones_array, [1.] * 5), \\\n",
    "       \"❌ Task 1.3 failed: the array values are incorrect\"\n",
    "print(\"✅ Task 1.3 passed!\")"
   ]
  },
  {
   "cell_type": "markdown",
   "id": "3228f8c0-8e79-423b-8493-96f523d10b07",
   "metadata": {},
   "source": [
    "### 1.4 Create an array with values from 0 to 20 with step 2."
   ]
  },
  {
   "cell_type": "code",
   "execution_count": 8,
   "id": "602b5ce1-3864-4ecf-9977-e25b5a171d88",
   "metadata": {},
   "outputs": [],
   "source": [
    "array_from_0_to_20 = np.arange(0, 20, 2)"
   ]
  },
  {
   "cell_type": "code",
   "execution_count": 9,
   "id": "3a61f304-73a1-4221-9da4-92f9dc07e032",
   "metadata": {},
   "outputs": [
    {
     "name": "stdout",
     "output_type": "stream",
     "text": [
      "✅ Task 1.4 passed!\n"
     ]
    }
   ],
   "source": [
    "assert np.array_equal(array_from_0_to_20, [0, 2, 4, 6, 8, 10, 12, 14, 16, 18]), \\\n",
    "       \"❌ Task 1.4 failed: the array values are incorrect\"\n",
    "print(\"✅ Task 1.4 passed!\")"
   ]
  },
  {
   "cell_type": "markdown",
   "id": "9c57d19f-2927-4031-8fd0-3642cad6dc0e",
   "metadata": {},
   "source": [
    "### 1.5 Create an array of 5 random numbers from 0 to 1."
   ]
  },
  {
   "cell_type": "code",
   "execution_count": 10,
   "id": "9f0cc85d-7852-45b2-8aa4-f8b3bf2e00c7",
   "metadata": {},
   "outputs": [],
   "source": [
    "rg = np.random.default_rng(123) \n",
    "random_numbers_from_0_to_1_array = rg.random(5)"
   ]
  },
  {
   "cell_type": "code",
   "execution_count": 11,
   "id": "6828cae1-10e9-4142-be1c-7d95debd3be6",
   "metadata": {},
   "outputs": [
    {
     "name": "stdout",
     "output_type": "stream",
     "text": [
      "✅ Task 1.5 passed!\n"
     ]
    }
   ],
   "source": [
    "assert np.allclose(random_numbers_from_0_to_1_array, \n",
    "                   [0.68235186, 0.05382102, 0.22035987, 0.18437181, 0.1759059]), \\\n",
    "       \"❌ Task 1.5 failed: the array values are incorrect\"\n",
    "print(\"✅ Task 1.5 passed!\")"
   ]
  },
  {
   "cell_type": "markdown",
   "id": "57937044-501e-48b4-a08e-647e8ddbd3fa",
   "metadata": {},
   "source": [
    "### 1.6 Create an array of 5 random integers between 10 and 50."
   ]
  },
  {
   "cell_type": "code",
   "execution_count": 12,
   "id": "ca40336f-77d5-448d-8942-aa40ca905731",
   "metadata": {},
   "outputs": [],
   "source": [
    "random_integers_from_10_to_50_array = rg.integers(10, 50, 5)"
   ]
  },
  {
   "cell_type": "code",
   "execution_count": 13,
   "id": "17e0cd70-0e6a-4fd4-af5b-341ba51cbdeb",
   "metadata": {},
   "outputs": [
    {
     "name": "stdout",
     "output_type": "stream",
     "text": [
      "✅ Task 1.6 passed!\n"
     ]
    }
   ],
   "source": [
    "assert np.array_equal(random_integers_from_10_to_50_array, [23, 42, 28, 46, 27]), \\\n",
    "       \"❌ Task 1.6 failed: the array values are incorrect\"\n",
    "print(\"✅ Task 1.6 passed!\")"
   ]
  },
  {
   "cell_type": "markdown",
   "id": "7f033e2b-21cc-4517-8071-834e012ceeca",
   "metadata": {},
   "source": [
    "# Task 2 – Indexing and slicing"
   ]
  },
  {
   "cell_type": "markdown",
   "id": "a781345a-ef17-4e32-bf3e-50ef575fdafd",
   "metadata": {},
   "source": [
    "### 2.1 Select the 3rd element of the array."
   ]
  },
  {
   "cell_type": "code",
   "execution_count": 14,
   "id": "73fa5c03-e20e-4471-87b0-141d87702143",
   "metadata": {},
   "outputs": [],
   "source": [
    "a = np.arange(0, 10, 2)\n",
    "\n",
    "third_element_1 = a[2]\n",
    "third_element_2 = a[2:3]"
   ]
  },
  {
   "cell_type": "code",
   "execution_count": 15,
   "id": "ce162dd7-38b1-43ce-997d-60b5098775bb",
   "metadata": {},
   "outputs": [
    {
     "name": "stdout",
     "output_type": "stream",
     "text": [
      "✅ Task 2.1 passed!\n"
     ]
    }
   ],
   "source": [
    "assert np.equal(third_element_1, 4), \\\n",
    "       \"❌ Task 2.1 failed: the selected element is incorrect\"\n",
    "assert np.equal(third_element_2, 4), \\\n",
    "       \"❌ Task 2.1 failed: the selected element is incorrect\"\n",
    "print(\"✅ Task 2.1 passed!\")"
   ]
  },
  {
   "cell_type": "markdown",
   "id": "d3520574-e262-4281-96ab-3eb1efea23e3",
   "metadata": {},
   "source": [
    "### 2.2 Select the first 4 elements of the array."
   ]
  },
  {
   "cell_type": "code",
   "execution_count": 16,
   "id": "50372f69-8929-4dbe-a9d2-0cc5e2616649",
   "metadata": {},
   "outputs": [],
   "source": [
    "a = np.arange(0, 10, 2)\n",
    "\n",
    "four_elements = a[:4]"
   ]
  },
  {
   "cell_type": "code",
   "execution_count": 17,
   "id": "ae7e14a8-2ec9-43b7-bbd7-adb19d767e2a",
   "metadata": {},
   "outputs": [
    {
     "name": "stdout",
     "output_type": "stream",
     "text": [
      "✅ Task 2.2 passed!\n"
     ]
    }
   ],
   "source": [
    "assert np.array_equal(four_elements, [0, 2, 4, 6]), \\\n",
    "       \"❌ Task 2.2 failed: the selected elements are incorrect\"\n",
    "print(\"✅ Task 2.2 passed!\")"
   ]
  },
  {
   "cell_type": "markdown",
   "id": "0d3d39ba-9f6d-460b-a89f-057efc75aa0f",
   "metadata": {},
   "source": [
    "### 2.3 Select all elements greater than 3 using boolean indexing."
   ]
  },
  {
   "cell_type": "code",
   "execution_count": 18,
   "id": "af4aefa9-3b79-4201-9382-c12c8760733b",
   "metadata": {},
   "outputs": [],
   "source": [
    "a = np.arange(0, 10, 2)\n",
    "\n",
    "mask = a > 3\n",
    "greater_than_3_elements = a[mask]"
   ]
  },
  {
   "cell_type": "code",
   "execution_count": 19,
   "id": "91b9ae8d-4081-4b32-a771-ed721a003294",
   "metadata": {},
   "outputs": [
    {
     "name": "stdout",
     "output_type": "stream",
     "text": [
      "✅ Task 2.3 passed!\n"
     ]
    }
   ],
   "source": [
    "assert np.array_equal(greater_than_3_elements, [4, 6, 8]), \\\n",
    "       \"❌ Task 2.3 failed: the selected elements are incorrect\"\n",
    "print(\"✅ Task 2.3 passed!\")"
   ]
  },
  {
   "cell_type": "markdown",
   "id": "9498ce20-4762-41c4-b4fd-a921580770da",
   "metadata": {},
   "source": [
    "### 2.4 Reverse the array."
   ]
  },
  {
   "cell_type": "code",
   "execution_count": 20,
   "id": "9ec1af31-d944-4bdb-8bef-a09e3f640a9e",
   "metadata": {},
   "outputs": [],
   "source": [
    "a = np.arange(0, 10, 2)\n",
    "\n",
    "first_reverse_array = a[::-1]\n",
    "second_reverse_array = np.flip(a)"
   ]
  },
  {
   "cell_type": "code",
   "execution_count": 21,
   "id": "a8b0648b-09b4-484e-8342-90d7e8957904",
   "metadata": {},
   "outputs": [
    {
     "name": "stdout",
     "output_type": "stream",
     "text": [
      "✅ Task 2.4 passed!\n"
     ]
    }
   ],
   "source": [
    "assert np.array_equal(first_reverse_array, [8, 6, 4, 2, 0]), \\\n",
    "       \"❌ Task 2.4 failed: the reversed array is incorrect\"\n",
    "assert np.array_equal(second_reverse_array, [8, 6, 4, 2, 0]), \\\n",
    "       \"❌ Task 2.4 failed: the reversed array is incorrect\"\n",
    "print(\"✅ Task 2.4 passed!\")"
   ]
  },
  {
   "cell_type": "markdown",
   "id": "5238502b-f8e8-4d81-a67e-c048f65b214c",
   "metadata": {},
   "source": [
    "# Task 3 – Arithmetic and basic functions"
   ]
  },
  {
   "cell_type": "code",
   "execution_count": 22,
   "id": "2e5bb17a-5d4e-4da7-b47b-572db0d940f0",
   "metadata": {},
   "outputs": [],
   "source": [
    "a = np.array([1.5, 2.0, 3.2, 4.8, 5.5, 6.1])"
   ]
  },
  {
   "cell_type": "markdown",
   "id": "6a1e767e-4247-4b76-843d-9cc0cb95823e",
   "metadata": {},
   "source": [
    "### 3.1 Given an array of numbers, calculate:\n",
    "\n",
    "    3.1.1 the sum\n",
    "\n",
    "    3.1.2 the mean\n",
    "\n",
    "    3.1.3 the variance\n",
    "\n",
    "    3.1.4 the standard deviation"
   ]
  },
  {
   "cell_type": "code",
   "execution_count": 23,
   "id": "20a4a465-cc89-419b-8620-0fb0ab2a531b",
   "metadata": {},
   "outputs": [
    {
     "name": "stdout",
     "output_type": "stream",
     "text": [
      "✅ Task 3.1.1 passed!\n"
     ]
    }
   ],
   "source": [
    "# 3.1.1 the sum\n",
    "array_sum = np.sum(a)\n",
    "\n",
    "assert np.isclose(array_sum, 23.1), \\\n",
    "       \"❌ Task 3.1.1 failed: the sum of the array is incorrect\"\n",
    "print(\"✅ Task 3.1.1 passed!\")"
   ]
  },
  {
   "cell_type": "code",
   "execution_count": 24,
   "id": "8c5409a1-3253-451f-9309-ae98e728ef8d",
   "metadata": {},
   "outputs": [
    {
     "name": "stdout",
     "output_type": "stream",
     "text": [
      "✅ Task 3.1.2 passed!\n"
     ]
    }
   ],
   "source": [
    "# 3.1.2 the mean\n",
    "mean_value = np.mean(a)\n",
    "\n",
    "assert np.isclose(mean_value, 3.85), \\\n",
    "       \"❌ Task 3.1.2 failed: the mean of the array is incorrect\"\n",
    "print(\"✅ Task 3.1.2 passed!\")"
   ]
  },
  {
   "cell_type": "code",
   "execution_count": 25,
   "id": "efc1cbde-9be5-452f-8ae6-e73f3fe58c73",
   "metadata": {},
   "outputs": [
    {
     "name": "stdout",
     "output_type": "stream",
     "text": [
      "✅ Task 3.1.3 passed!\n"
     ]
    }
   ],
   "source": [
    "# 3.1.3 the variance\n",
    "variance_value = np.var(a)\n",
    "\n",
    "assert np.isclose(variance_value, 3.0091666666666668), \\\n",
    "       \"❌ Task 3.1.3 failed: the variance of the array is incorrect\"\n",
    "print(\"✅ Task 3.1.3 passed!\")"
   ]
  },
  {
   "cell_type": "code",
   "execution_count": 26,
   "id": "dc3280ea-bd33-4a2e-98e3-68882aba1651",
   "metadata": {},
   "outputs": [
    {
     "name": "stdout",
     "output_type": "stream",
     "text": [
      "✅ Task 3.1.4 passed!\n"
     ]
    }
   ],
   "source": [
    "# 3.1.4 the standart deviation\n",
    "std_value = np.std(a)\n",
    "\n",
    "assert np.isclose(std_value, 1.7346949779908474), \\\n",
    "       \"❌ Task 3.1.4 failed: the standart deviation of the array is incorrect\"\n",
    "print(\"✅ Task 3.1.4 passed!\")"
   ]
  },
  {
   "cell_type": "markdown",
   "id": "9e0696a1-cdc7-4ab6-9726-e2fd87c78e02",
   "metadata": {},
   "source": [
    "### 3.2 Multiply the array by 2."
   ]
  },
  {
   "cell_type": "code",
   "execution_count": 27,
   "id": "e1536332-79bf-48f0-beac-0211146aa983",
   "metadata": {},
   "outputs": [
    {
     "name": "stdout",
     "output_type": "stream",
     "text": [
      "✅ Task 3.2 passed!\n"
     ]
    }
   ],
   "source": [
    "multiplied_array = a * 2\n",
    "\n",
    "assert np.allclose(multiplied_array, [3., 4., 6.4, 9.6, 11., 12.2]), \\\n",
    "       \"❌ Task 3.2 failed: the multiplied array is incorrect\"\n",
    "print(\"✅ Task 3.2 passed!\")"
   ]
  },
  {
   "cell_type": "markdown",
   "id": "39932e28-5d4b-456d-86cd-2b2176f644e0",
   "metadata": {},
   "source": [
    "### 3.3 Add 5 to each element.\n"
   ]
  },
  {
   "cell_type": "code",
   "execution_count": 28,
   "id": "ef07ff13-f205-4b1b-88eb-44328f4e6cd0",
   "metadata": {},
   "outputs": [
    {
     "name": "stdout",
     "output_type": "stream",
     "text": [
      "✅ Task 3.3 passed!\n"
     ]
    }
   ],
   "source": [
    "added_array = a + 5\n",
    "\n",
    "assert np.allclose(added_array, [ 6.5, 7., 8.2, 9.8, 10.5, 11.1]), \\\n",
    "       \"❌ Task 3.3 failed: the added array is incorrect\"\n",
    "print(\"✅ Task 3.3 passed!\")"
   ]
  },
  {
   "cell_type": "code",
   "execution_count": 29,
   "id": "deb795c9-fb7d-47b9-9b59-3a86a6ce9425",
   "metadata": {},
   "outputs": [],
   "source": [
    "### 3.4 Compute the dot product of two arrays"
   ]
  },
  {
   "cell_type": "code",
   "execution_count": 30,
   "id": "b8cec86f-7971-46b0-a37c-386cf23018df",
   "metadata": {},
   "outputs": [
    {
     "name": "stdout",
     "output_type": "stream",
     "text": [
      "✅ Task 3.4 passed!\n"
     ]
    }
   ],
   "source": [
    "x = np.array([1, 2, 3])\n",
    "y = np.array([4, 5, 6])\n",
    "\n",
    "dot_product = np.dot(x, y)\n",
    "\n",
    "assert dot_product == 32, \\\n",
    "       \"❌ Task 3.4 failed: the dot product is incorrect\"\n",
    "print(\"✅ Task 3.4 passed!\")"
   ]
  },
  {
   "cell_type": "markdown",
   "id": "b0f548c7-c420-4425-81cc-77513b54d624",
   "metadata": {},
   "source": [
    "# Task 4 – Reshape and matrix operations"
   ]
  },
  {
   "cell_type": "markdown",
   "id": "32492715-0570-4cb3-b74e-ab1c76713733",
   "metadata": {},
   "source": [
    "### 4.1 Create an array of numbers from 1 to 12 and reshape it to a (3, 4) matrix."
   ]
  },
  {
   "cell_type": "code",
   "execution_count": 31,
   "id": "c0170adf-8370-4d13-9370-c395cf048ac6",
   "metadata": {},
   "outputs": [
    {
     "name": "stdout",
     "output_type": "stream",
     "text": [
      "✅ Task 4.1 passed!\n"
     ]
    }
   ],
   "source": [
    "a = np.arange(1, 13).reshape(3, 4)\n",
    "\n",
    "assert np.array_equal(a, [[ 1,  2,  3,  4],\n",
    "                          [ 5,  6,  7,  8], \n",
    "                          [ 9, 10, 11, 12]]), \\\n",
    "       \"❌ Task 4.1 failed: the matrix is incorrect\"\n",
    "print(\"✅ Task 4.1 passed!\")"
   ]
  },
  {
   "cell_type": "markdown",
   "id": "d56e74e8-dc5b-407c-b2ec-8005dc0a324b",
   "metadata": {},
   "source": [
    "### 4.2 Transpose the matrix."
   ]
  },
  {
   "cell_type": "code",
   "execution_count": 32,
   "id": "c7ba6bc0-0d7a-4f61-a5f0-460de5e2a631",
   "metadata": {},
   "outputs": [
    {
     "name": "stdout",
     "output_type": "stream",
     "text": [
      "✅ Task 4.2 passed!\n"
     ]
    }
   ],
   "source": [
    "transposed_matrix = a.T\n",
    "\n",
    "assert np.array_equal(transposed_matrix, [[1, 5, 9],\n",
    "                                          [2, 6, 10],\n",
    "                                          [3, 7, 11],\n",
    "                                          [4, 8, 12]]), \\\n",
    "       \"❌ Task 4.2 failed: the transposed matrix is incorrect\"\n",
    "print(\"✅ Task 4.2 passed!\")"
   ]
  },
  {
   "cell_type": "markdown",
   "id": "a36adc35-d2ce-46b6-b0dc-d75e86e881a6",
   "metadata": {},
   "source": [
    "### 4.3 Create two 2×2 matrices and:\n",
    "    4.3.1 add matrices\n",
    "\n",
    "    4.3.2 multiply matrices element-wise\n",
    "\n",
    "    4.3.3 perform matrix multiplication"
   ]
  },
  {
   "cell_type": "code",
   "execution_count": 33,
   "id": "4e1b360c-8421-4f68-85d5-aa2094eb6063",
   "metadata": {},
   "outputs": [
    {
     "name": "stdout",
     "output_type": "stream",
     "text": [
      "[[1 2]\n",
      " [3 4]]\n",
      "[[5 6]\n",
      " [7 8]]\n"
     ]
    }
   ],
   "source": [
    "x = np.arange(1, 5).reshape(2, 2)\n",
    "y = np.arange(5, 9).reshape(2, 2)\n",
    "\n",
    "print(x)\n",
    "print(y)"
   ]
  },
  {
   "cell_type": "code",
   "execution_count": 34,
   "id": "0091fb87-8213-42b8-80bd-2d491039e3a9",
   "metadata": {},
   "outputs": [
    {
     "name": "stdout",
     "output_type": "stream",
     "text": [
      "✅ Task 4.3.1 passed!\n"
     ]
    }
   ],
   "source": [
    "# 4.3.1 add matrices\n",
    "matrixes_sum = x + y\n",
    "\n",
    "assert np.array_equal(matrixes_sum, [[6, 8],\n",
    "                                     [10, 12]]), \\\n",
    "       \"❌ Task 4.3.1 failed: the matrix sum is incorrect\"\n",
    "print(\"✅ Task 4.3.1 passed!\")"
   ]
  },
  {
   "cell_type": "code",
   "execution_count": 35,
   "id": "77ce11e8-e228-4363-8afb-233882313fc9",
   "metadata": {},
   "outputs": [
    {
     "name": "stdout",
     "output_type": "stream",
     "text": [
      "✅ Task 4.3.2 passed!\n"
     ]
    }
   ],
   "source": [
    "# 4.3.2 multiply matrices element-wise\n",
    "multiplied_matrixes = x * y\n",
    "\n",
    "assert np.array_equal(multiplied_matrixes, [[5, 12], \n",
    "                                            [21, 32]]), \\\n",
    "       \"❌ Task 4.3.2 failed: the element-wise product is incorrect\"\n",
    "print(\"✅ Task 4.3.2 passed!\")"
   ]
  },
  {
   "cell_type": "code",
   "execution_count": 36,
   "id": "1a4b1464-15ef-4e07-8457-c9b79a31d53d",
   "metadata": {},
   "outputs": [
    {
     "name": "stdout",
     "output_type": "stream",
     "text": [
      "✅ Task 4.3.3 passed!\n"
     ]
    }
   ],
   "source": [
    "# 4.3.3 perform matrix multiplication\n",
    "matrix_multiplication = x @ y\n",
    "\n",
    "assert np.array_equal(matrix_multiplication, [[19, 22],\n",
    "                                              [43, 50]]), \\\n",
    "       \"❌ Task 4.3.3 failed: the matrix multiplication is incorrect\"\n",
    "print(\"✅ Task 4.3.3 passed!\")"
   ]
  },
  {
   "cell_type": "markdown",
   "id": "11315d3f-85a1-4dca-87cc-5ce38fdbc21a",
   "metadata": {},
   "source": [
    "# Task 5 – Random numbers and filtering\n",
    "\n",
    "### 5.1 Generate an array of 20 random numbers between 0 and 1."
   ]
  },
  {
   "cell_type": "code",
   "execution_count": 37,
   "id": "fde67bba-feed-40e1-9172-e61b6238d3b3",
   "metadata": {},
   "outputs": [
    {
     "name": "stdout",
     "output_type": "stream",
     "text": [
      "✅ Task 5.1 passed!\n"
     ]
    }
   ],
   "source": [
    "rg = np.random.default_rng(12345)\n",
    "\n",
    "random_20_numbers = rg.random(20)\n",
    "\n",
    "assert np.allclose(random_20_numbers, \n",
    "       [0.22733602, 0.31675834, 0.79736546, 0.67625467, 0.39110955,\n",
    "        0.33281393, 0.59830875, 0.18673419, 0.67275604, 0.94180287,\n",
    "        0.24824571, 0.94888115, 0.66723745, 0.09589794, 0.44183967,\n",
    "        0.88647992, 0.6974535 , 0.32647286, 0.73392816, 0.22013496]), \\\n",
    "       \"❌ Task 5.1 failed: the array is incorrect\"\n",
    "print(\"✅ Task 5.1 passed!\") "
   ]
  },
  {
   "cell_type": "markdown",
   "id": "f34bb36d-a696-4dbb-9874-f9054e2fe23e",
   "metadata": {},
   "source": [
    "### 5.2 Select all numbers greater than 0.5 from the array."
   ]
  },
  {
   "cell_type": "code",
   "execution_count": 38,
   "id": "5995051c-991f-496b-8d98-dd942a9c0ee9",
   "metadata": {},
   "outputs": [
    {
     "name": "stdout",
     "output_type": "stream",
     "text": [
      "✅ Task 5.2 passed!\n"
     ]
    }
   ],
   "source": [
    "greater_than_05 = random_20_numbers[random_20_numbers > 0.5]\n",
    "\n",
    "assert np.allclose(greater_than_05, \n",
    "       [0.79736546, 0.67625467, 0.59830875, 0.67275604, 0.94180287,\n",
    "        0.94888115, 0.66723745, 0.88647992, 0.6974535 , 0.73392816]), \\\n",
    "       \"❌ Task 5.2 failed: selected elements are incorrect\"\n",
    "print(\"✅ Task 5.2 passed!\") "
   ]
  },
  {
   "cell_type": "markdown",
   "id": "b7b3cc1d-843d-4a32-acc8-2f37a5d3c324",
   "metadata": {},
   "source": [
    "### 5.3 Count the number of elements greater than 0.5."
   ]
  },
  {
   "cell_type": "code",
   "execution_count": 39,
   "id": "8ae2bb8e-7b58-4257-8118-8d794bd6372f",
   "metadata": {},
   "outputs": [
    {
     "name": "stdout",
     "output_type": "stream",
     "text": [
      "✅ Task 5.3 passed!\n"
     ]
    }
   ],
   "source": [
    "array_size = np.sum(random_20_numbers > 0.5)\n",
    "\n",
    "assert array_size == 10, \\\n",
    "       \"❌ Task 5.3 failed: the count of numbers greater than 0.5 is incorrect\"\n",
    "print(\"✅ Task 5.3 passed!\") "
   ]
  },
  {
   "cell_type": "markdown",
   "id": "2c62b4b9-0aec-405f-9a24-483852e1e2dc",
   "metadata": {},
   "source": [
    "# Task 6 – Functions (manual implementation with NumPy arrays)\n",
    "\n",
    "### 6.1 Implement a function mean_numpy(arr: np.ndarray) -> float that calculates the mean manually (using a Python loop, without using np.mean)."
   ]
  },
  {
   "cell_type": "code",
   "execution_count": 40,
   "id": "2181f581-3169-492c-8e78-e0251e603711",
   "metadata": {},
   "outputs": [],
   "source": [
    "def mean_numpy(arr: np.ndarray) -> float:\n",
    "    arr = np.array(arr, dtype=float)\n",
    "    \n",
    "    if arr.size == 0:\n",
    "        return 0\n",
    "        \n",
    "    total = 0.0\n",
    "    for value in arr:\n",
    "        total += value\n",
    "\n",
    "    return total/arr.size"
   ]
  },
  {
   "cell_type": "code",
   "execution_count": 41,
   "id": "5c4d0ca9-635c-4fef-b1c2-e55955a32316",
   "metadata": {},
   "outputs": [
    {
     "name": "stdout",
     "output_type": "stream",
     "text": [
      "✅ Task 6.1 passed!\n"
     ]
    }
   ],
   "source": [
    "assert mean_numpy(np.array([])) == 0, \\\n",
    "       \"❌ Task 6.1 failed. The mean value is incorrect.\"\n",
    "\n",
    "assert mean_numpy(np.array([1, 5, 0])) == 2.0, \\\n",
    "       \"❌ Task 6.1 failed. The mean value is incorrect.\"\n",
    "\n",
    "arr1 = np.array([43.5, 0.5, 4.8383]) \n",
    "assert np.isclose(mean_numpy(arr1), np.mean(arr1)), \\\n",
    "       \"❌ Task 6.1 failed. The mean value is incorrect.\"\n",
    "\n",
    "arr2 = np.array([7, 7, 7, 7])\n",
    "assert mean_numpy(arr2) == np.mean(arr2), \\\n",
    "       \"❌ Task 6.1 failed. The mean value is incorrect.\"\n",
    "\n",
    "arr3 = np.array([0, -5, 5])              \n",
    "assert mean_numpy(arr3) == np.mean(arr3), \\\n",
    "       \"❌ Task 6.1 failed. The mean value is incorrect.\"\n",
    "\n",
    "arr4 = np.arange(1000)\n",
    "assert np.isclose(mean_numpy(arr4), np.mean(arr4)), \\\n",
    "       \"❌ Task 6.1 failed. The mean value is incorrect.\"\n",
    "print(\"✅ Task 6.1 passed!\")"
   ]
  },
  {
   "cell_type": "markdown",
   "id": "57f6b61b-a77a-41ef-9b66-024c6a7b53bb",
   "metadata": {},
   "source": [
    "### 6.2 Implement a function variance_numpy(arr: np.ndarray) -> float that calculates the sample variance manually (using a Python loop, without using np.var)."
   ]
  },
  {
   "cell_type": "code",
   "execution_count": 42,
   "id": "b9c78e9d-9708-45b8-83dc-7401690a1439",
   "metadata": {},
   "outputs": [],
   "source": [
    "def variance_numpy(arr: np.ndarray) -> float:\n",
    "    arr = np.array(arr, dtype=float)\n",
    "\n",
    "    array_mean = mean_numpy(arr)\n",
    "    \n",
    "    squared_diff_sum = 0\n",
    "    for item in arr:\n",
    "        squared_diff_sum += (item - array_mean) ** 2\n",
    "    \n",
    "    return squared_diff_sum / (arr.size - 1) if arr.size > 1 else 0"
   ]
  },
  {
   "cell_type": "code",
   "execution_count": 43,
   "id": "b5de08b4-2aa9-4e0e-ad08-e6c2b843afe8",
   "metadata": {},
   "outputs": [
    {
     "name": "stdout",
     "output_type": "stream",
     "text": [
      "✅ Task 6.2 passed!\n"
     ]
    }
   ],
   "source": [
    "assert variance_numpy(np.array([])) == 0, \\\n",
    "       \"❌ Task 6.2 failed: variance of empty array should be 0\"\n",
    "\n",
    "assert variance_numpy(np.array([5])) == 0, \\\n",
    "       \"❌ Task 6.2 failed: variance of one-element array should be 0\"\n",
    "\n",
    "arr1 = np.array([1, 2, 3])\n",
    "assert np.isclose(variance_numpy(arr1), np.var(arr1, ddof=1)), \\\n",
    "       \"❌ Task 6.2 failed: variance is incorrect for [1, 2, 3]\"\n",
    "\n",
    "arr2 = np.array([1.5, 2.0, 3.2, 4.8, 5.5, 6.1])\n",
    "assert np.isclose(variance_numpy(arr2), np.var(arr2, ddof=1)), \\\n",
    "       \"❌ Task 6.2 failed: variance is incorrect for float array\"\n",
    "\n",
    "print(\"✅ Task 6.2 passed!\")"
   ]
  }
 ],
 "metadata": {
  "kernelspec": {
   "display_name": "Python [conda env:base] *",
   "language": "python",
   "name": "conda-base-py"
  },
  "language_info": {
   "codemirror_mode": {
    "name": "ipython",
    "version": 3
   },
   "file_extension": ".py",
   "mimetype": "text/x-python",
   "name": "python",
   "nbconvert_exporter": "python",
   "pygments_lexer": "ipython3",
   "version": "3.13.5"
  }
 },
 "nbformat": 4,
 "nbformat_minor": 5
}
