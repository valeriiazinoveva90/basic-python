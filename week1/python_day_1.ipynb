{
 "cells": [
  {
   "cell_type": "markdown",
   "id": "b420013a-2d03-4f9a-9b19-cb356f6e89f9",
   "metadata": {},
   "source": [
    "# Day 1 — Python Practice\n"
   ]
  },
  {
   "cell_type": "code",
   "execution_count": null,
   "id": "1c0504e5-9d35-4923-8ba4-af341aff314e",
   "metadata": {},
   "outputs": [],
   "source": [
    "import math\n",
    "from itertools import chain\n",
    "\n",
    "from typing import List, TypedDict\n",
    "\n",
    "class Person(TypedDict):\n",
    "    name: str\n",
    "    age: int"
   ]
  },
  {
   "cell_type": "markdown",
   "id": "0fbdddcf-844a-4a7e-8c8e-15e47da69250",
   "metadata": {},
   "source": [
    "## Task 1 — Manual Mean\n",
    "Task 1: Write a function `mean_manual(numbers: List[float]) -> float` that returns the mean of a list without using sum() or len()."
   ]
  },
  {
   "cell_type": "code",
   "execution_count": 75,
   "id": "f5890556-e970-4c44-84c2-409a803ca6e5",
   "metadata": {},
   "outputs": [],
   "source": [
    "def mean_manual(numbers: List[float]) -> float:\n",
    "    \"\"\"\n",
    "    Calculate the mean of a list of numbers manually (without using sum or len).\n",
    "\n",
    "    Args:\n",
    "        numbers (List[float]): list of numeric values\n",
    "\n",
    "    Returns:\n",
    "        float: mean value\n",
    "\n",
    "    Example:\n",
    "        >>> mean_manual([1,2.7,3,4,5])\n",
    "        3.1399999999999997\n",
    "    \n",
    "    \"\"\"\n",
    "    if not numbers:\n",
    "        raise ValueError(\"Cannot calculate mean of empty list\")\n",
    "        \n",
    "    total = 0\n",
    "  \n",
    "    for count, number in enumerate(numbers, start=1):\n",
    "        total += number\n",
    "    \n",
    "    return total / count"
   ]
  },
  {
   "cell_type": "code",
   "execution_count": 65,
   "id": "41775472-0900-4c65-b111-06219827c7bf",
   "metadata": {},
   "outputs": [
    {
     "name": "stdout",
     "output_type": "stream",
     "text": [
      "Task 1 passed!\n"
     ]
    }
   ],
   "source": [
    "assert math.isclose(mean_manual([1,2.7,3,4,5]), 3.14, rel_tol = 1e-6)\n",
    "assert math.isclose(mean_manual([10.5,20.1]), 15.3, rel_tol = 1e-6)\n",
    "assert math.isclose(mean_manual([10320.]), 10320, rel_tol = 1e-6)\n",
    "\n",
    "print(\"Task 1 passed!\")"
   ]
  },
  {
   "cell_type": "markdown",
   "id": "bf41f338-e414-4bde-928b-38288fedad38",
   "metadata": {},
   "source": [
    "## Task 2 — Manual Variance\n",
    "Write `variance_manual(numbers: List[float]) -> float` that computes **sample variance** manually."
   ]
  },
  {
   "cell_type": "code",
   "execution_count": 66,
   "id": "21aaa9f1-a0ba-46cd-9981-1f691101718c",
   "metadata": {},
   "outputs": [],
   "source": [
    "def variance_manual(numbers: List[float]) -> float:\n",
    "    \"\"\"\n",
    "    Calculate the sample variance (unbiased estimator) of a list of numbers manually.\n",
    "\n",
    "    Args:\n",
    "        numbers (List[float]): list of numeric values\n",
    "\n",
    "    Returns:\n",
    "        float: variance value\n",
    "\n",
    "    Raises:\n",
    "        ValueError: when the input list has fewer than 2 items\n",
    "\n",
    "    Example:  \n",
    "        >>> print(variance_manual([10.6, 2.5, 4.85, 5]))\n",
    "        11.81895833333333\n",
    "    \n",
    "    \"\"\"\n",
    "    if len(numbers) < 2:\n",
    "        raise ValueError(\"Variance requires at least two numbers\")\n",
    "    \n",
    "    mean = mean_manual(numbers)\n",
    "\n",
    "    squared_diff_sum = 0\n",
    "    for number in numbers:\n",
    "        squared_diff_sum += (number - mean) ** 2\n",
    "\n",
    "    return squared_diff_sum/(len(numbers) - 1)\n",
    "    "
   ]
  },
  {
   "cell_type": "code",
   "execution_count": 67,
   "id": "c72ef1ac-5f53-43f1-aaab-8f0368a60370",
   "metadata": {},
   "outputs": [
    {
     "name": "stdout",
     "output_type": "stream",
     "text": [
      "Task 2 passed!\n"
     ]
    }
   ],
   "source": [
    "assert math.isclose(variance_manual([10.6, 2.5, 4.85, 5]), 11.82, rel_tol=1e-4)\n",
    "assert math.isclose(variance_manual([10, 20]), 50, rel_tol=1e-6)\n",
    "\n",
    "print(\"Task 2 passed!\")"
   ]
  },
  {
   "cell_type": "markdown",
   "id": "e742a9ac-6898-45a6-945d-fa31489a7ff1",
   "metadata": {},
   "source": [
    "## Task 3 — Filter Dictionary List\n",
    "Given a list of dictionaries, select only those where `age > 30`."
   ]
  },
  {
   "cell_type": "code",
   "execution_count": 68,
   "id": "757b5886-2b5f-4c21-84b6-87296c16d572",
   "metadata": {},
   "outputs": [],
   "source": [
    "def older_than_30(people: List[Person]) ->  List[Person]:\n",
    "    \"\"\"\n",
    "    Return a list of people older than 30 years.\n",
    "\n",
    "    Args:\n",
    "        people (List[Person]): list of Person dictionaries\n",
    "\n",
    "    Returns:\n",
    "        list of Person dictionaries: people older than 30 years\n",
    "    \n",
    "    Raises:\n",
    "        ValueError: if the input list is empty\n",
    "\n",
    "    Example:\n",
    "        >>> people = [\n",
    "        ...     {\"name\": \"Alice\", \"age\": 25},\n",
    "        ...     {\"name\": \"Bob\", \"age\": 35},\n",
    "        ...     {\"name\": \"Charlie\", \"age\": 40},\n",
    "        ...     {\"name\": \"Karla\", \"age\": 30},\n",
    "        ... ]\n",
    "        >>> older_than_30(people)\n",
    "        [{'name': 'Bob', 'age': 35}, {'name': 'Charlie', 'age': 40}]\n",
    "    \n",
    "    \"\"\"\n",
    "    if not people:\n",
    "        raise ValueError('People list is empty.')\n",
    "\n",
    "    return [person for person in people if person['age'] > 30]"
   ]
  },
  {
   "cell_type": "code",
   "execution_count": 69,
   "id": "9a7f1818-9f18-41e6-b058-45be9a66d092",
   "metadata": {},
   "outputs": [
    {
     "name": "stdout",
     "output_type": "stream",
     "text": [
      "Task 3 passed!\n"
     ]
    }
   ],
   "source": [
    "people = [\n",
    "    {\"name\": \"Alice\", \"age\": 25},\n",
    "    {\"name\": \"Bob\", \"age\": 35},\n",
    "    {\"name\": \"Charlie\", \"age\": 40},\n",
    "    {\"name\": \"Karla\", \"age\": 30}\n",
    "]\n",
    "\n",
    "adults = older_than_30(people)\n",
    "assert adults == [{\"name\": \"Bob\", \"age\": 35}, {\"name\": \"Charlie\", \"age\": 40}]\n",
    "\n",
    "print(\"Task 3 passed!\")"
   ]
  },
  {
   "cell_type": "markdown",
   "id": "601eebfa-8ba4-4eeb-8a93-8ac0584aef5d",
   "metadata": {},
   "source": [
    "## Task 4 — List Comprehension\n",
    "Given a list of words, return a list of lengths **only for words longer than 3 letters**."
   ]
  },
  {
   "cell_type": "code",
   "execution_count": 70,
   "id": "ab32e4e3-ccc5-41ce-b6df-fbadc3b2b0c0",
   "metadata": {},
   "outputs": [],
   "source": [
    "def word_lengths_over_3(words: List[str]) -> List[int]:\n",
    "    \"\"\"\n",
    "     Return the lengths of words that have more than 3 letters.\n",
    "\n",
    "    Args:\n",
    "        words (List[str]): list of words\n",
    "        \n",
    "    Returns:\n",
    "        List[int]: list of word lengths for words longer than 3 letters\n",
    "\n",
    "    Raises:\n",
    "        ValueError: if input list is empty\n",
    "\n",
    "    Example:\n",
    "        >>> word_lengths_over_3([\"house\", \"\", \"dog\", \"family\", \"of\", \"python\"])\n",
    "        [5, 6, 6]\n",
    "    \n",
    "    \"\"\"\n",
    "    if not words:\n",
    "        raise ValueError('Words list is empty')\n",
    "        \n",
    "    return [len(word) for word in words if len(word) > 3]"
   ]
  },
  {
   "cell_type": "code",
   "execution_count": 71,
   "id": "ef719d86-f462-4606-9f75-3c4d0830fcb4",
   "metadata": {},
   "outputs": [
    {
     "name": "stdout",
     "output_type": "stream",
     "text": [
      "Task 4 passed!\n"
     ]
    }
   ],
   "source": [
    "assert word_lengths_over_3([\"house\", \"\", \"dog\", \"family\", \"of\", \"python\"]) == [5, 6, 6]\n",
    "assert word_lengths_over_3([\"tree\", \"python\", \"java\"]) == [4, 6, 4]\n",
    "\n",
    "assert word_lengths_over_3([\"a\", \"of\", \"cat\"]) == []\n",
    "\n",
    "try:\n",
    "    word_lengths_over_3([])\n",
    "except ValueError as e:\n",
    "    assert str(e) == \"Words list is empty\"\n",
    "else:\n",
    "    raise AssertionError(\"Expected ValueError for empty list\")\n",
    "\n",
    "print(\"Task 4 passed!\")"
   ]
  },
  {
   "cell_type": "markdown",
   "id": "d109aad2-7c0f-486e-a037-ce4e3dff781a",
   "metadata": {},
   "source": [
    "## Task 5 — Flatten Nested List\n",
    "Write a function `flatten(list_of_lists: List[List[int]]) -> List[int]` that flattens a nested list."
   ]
  },
  {
   "cell_type": "code",
   "execution_count": null,
   "id": "b4ec8683-89fc-4d11-90e3-da0523845222",
   "metadata": {},
   "outputs": [],
   "source": [
    "# First implementation using list comprehension\n",
    "def flatten(list_of_lists: List[List[int]]) -> List[int]:\n",
    "    \"\"\"\n",
    "    Return a flattened list from a nested list.\n",
    "\n",
    "    Args:\n",
    "        list_of_lists (List[List[int]]): a list of lists of integers\n",
    "\n",
    "    Returns:\n",
    "        List[int]: a single flattened list containing all numbers\n",
    "\n",
    "    Example:\n",
    "        >>> flatten([[1,2], [3,4,5], [6]])\n",
    "        [1, 2, 3, 4, 5, 6]\n",
    "    \n",
    "    \"\"\"\n",
    "    \n",
    "    return [number for item in list_of_lists for number in item]"
   ]
  },
  {
   "cell_type": "code",
   "execution_count": null,
   "id": "8061a071-3ecf-4111-9779-b3433bf2e676",
   "metadata": {},
   "outputs": [],
   "source": [
    "# Second implementation using itertools.chain\n",
    "def flatten_with_chain(list_of_lists: List[List[int]]) -> List[int]:\n",
    "    \"\"\"\n",
    "    Return a flattened list from a nested list.\n",
    "\n",
    "    Args:\n",
    "        list_of_lists (List[List[int]]): a list of lists of integers\n",
    "\n",
    "    Returns:\n",
    "        List[int]: a single flattened list containing all numbers\n",
    "\n",
    "    Example:\n",
    "        >>> flatten_with_chain([[1,2], [3,4,5], [6]])\n",
    "        [1, 2, 3, 4, 5, 6]\n",
    "    \n",
    "    \"\"\"\n",
    "    \n",
    "    return list(chain.from_iterable(list_of_lists))"
   ]
  },
  {
   "cell_type": "code",
   "execution_count": 74,
   "id": "746cb749-17b2-43b9-bb4d-c712822a5bee",
   "metadata": {},
   "outputs": [
    {
     "name": "stdout",
     "output_type": "stream",
     "text": [
      "Task 5 passed for both implementations!\n"
     ]
    }
   ],
   "source": [
    "test_data = [\n",
    "    ([[1, 2], [3, 4, 5], [6]], [1, 2, 3, 4, 5, 6]),\n",
    "    ([[10], [20, 30], [40, 50, 60]], [10, 20, 30, 40, 50, 60]),\n",
    "    ([[], [1, 2], []], [1, 2]),\n",
    "    ([[], [], []], []),\n",
    "]\n",
    "\n",
    "for func in [flatten, flatten_with_chain]:\n",
    "    for input_list, expected in test_data:\n",
    "        assert func(input_list) == expected, f\"Failed for {func.__name__} with input {input_list}\"\n",
    "\n",
    "print(\"Task 5 passed for both implementations!\")"
   ]
  },
  {
   "cell_type": "code",
   "execution_count": null,
   "id": "cac603ae-668d-4e1d-b426-fc5d543661e5",
   "metadata": {},
   "outputs": [],
   "source": []
  }
 ],
 "metadata": {
  "kernelspec": {
   "display_name": "Python [conda env:base] *",
   "language": "python",
   "name": "conda-base-py"
  },
  "language_info": {
   "codemirror_mode": {
    "name": "ipython",
    "version": 3
   },
   "file_extension": ".py",
   "mimetype": "text/x-python",
   "name": "python",
   "nbconvert_exporter": "python",
   "pygments_lexer": "ipython3",
   "version": "3.13.5"
  }
 },
 "nbformat": 4,
 "nbformat_minor": 5
}
